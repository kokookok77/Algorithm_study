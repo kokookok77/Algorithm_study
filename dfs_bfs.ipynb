{
 "metadata": {
  "language_info": {
   "codemirror_mode": {
    "name": "ipython",
    "version": 3
   },
   "file_extension": ".py",
   "mimetype": "text/x-python",
   "name": "python",
   "nbconvert_exporter": "python",
   "pygments_lexer": "ipython3",
   "version": "3.8.6-final"
  },
  "orig_nbformat": 2,
  "kernelspec": {
   "name": "python3",
   "display_name": "Python 3",
   "language": "python"
  }
 },
 "nbformat": 4,
 "nbformat_minor": 2,
 "cells": [
  {
   "cell_type": "code",
   "execution_count": 1,
   "metadata": {},
   "outputs": [
    {
     "output_type": "stream",
     "name": "stdout",
     "text": [
      "2\n24.33203125\n"
     ]
    }
   ],
   "source": [
    "import sys\n",
    "from collections import deque\n",
    "import os\n",
    "import psutil\n",
    "process = psutil.Process(os.getpid())\n",
    "\n",
    "# bfs 로 풀 경우\n",
    "\n",
    "n, m = map(int, input().split())\n",
    "\n",
    "map = []\n",
    "\n",
    "for i in range(n):\n",
    "    row = input()\n",
    "    map.append([ int(row[i]) for i in range(len(row)) ])\n",
    "\n",
    "visited = [[ False for i in range(m)] for j in range(n)]\n",
    "\n",
    "icecream = 0\n",
    "\n",
    "queue = deque()\n",
    "\n",
    "def bfs(graph, start, visited):\n",
    "\n",
    "    y, x = start\n",
    "\n",
    "    if y >= n or y <= -1  or x <= -1 or x >= m: \n",
    "        return False\n",
    "    else :        \n",
    "        if visited[y][x] == False and graph[y][x] == 0: \n",
    "            queue.append([start])        \n",
    "            visited[y][x] = True\n",
    "\n",
    "    while queue:\n",
    "        v = queue.popleft()\n",
    "        _y, _x = v[0]\n",
    "\n",
    "        if _y >= n or _y <= -1  or _x <= -1 or _x >= m: \n",
    "            return False\n",
    "        else :\n",
    "            bfs(map, (_y+1, x), visited)\n",
    "            bfs(map, (_y-1, x), visited)\n",
    "            bfs(map, (_y, x+1), visited)\n",
    "            bfs(map, (_y, x-1), visited)\n",
    "        \n",
    "            return True\n",
    "\n",
    "for i in range(n):\n",
    "    for j in range(m):\n",
    "        if bfs(map, (i,j), visited) == True:\n",
    "            icecream += 1\n",
    "print(icecream)\n",
    "\n",
    "print(process.memory_info().rss /(2.0 ** 20))  # in bytes "
   ]
  },
  {
   "cell_type": "code",
   "execution_count": 1,
   "metadata": {},
   "outputs": [
    {
     "output_type": "stream",
     "name": "stdout",
     "text": [
      "2\n"
     ]
    }
   ],
   "source": [
    "import time\n",
    "start = time.now()\n",
    "n, m = map(int, input().split())\n",
    "\n",
    "map = []\n",
    "for i in range(n):\n",
    "    row = input()\n",
    "    map.append([int(row[i]) for i in range(m)])\n",
    "\n",
    "def dfs(x, y):\n",
    "    if x>=n or x<=-1 or y>=m or y<=-1:\n",
    "        return False\n",
    "    if map[x][y] == 0:\n",
    "        map[x][y] += 1\n",
    "        dfs(x+1, y)\n",
    "        dfs(x-1, y)\n",
    "        dfs(x, y+1)\n",
    "        dfs(x, y-1)\n",
    "        return True\n",
    "    else :\n",
    "        return False\n",
    "\n",
    "icecream = 0 \n",
    "for i in range(n):\n",
    "    for j in range(m):\n",
    "        if dfs(i, j) == True:\n",
    "            icecream +=1\n",
    "print(icecream)\n",
    "end = time.now()\n",
    "print(end-start)\n"
   ]
  },
  {
   "cell_type": "code",
   "execution_count": 13,
   "metadata": {},
   "outputs": [
    {
     "output_type": "stream",
     "name": "stdout",
     "text": [
      "29.76171875\n"
     ]
    }
   ],
   "source": [
    "import os\n",
    "import psutil\n",
    "process = psutil.Process(os.getpid())\n",
    "print(process.memory_info().rss /(2.0 ** 20))  # in bytes "
   ]
  },
  {
   "cell_type": "code",
   "execution_count": 1,
   "metadata": {},
   "outputs": [],
   "source": [
    "n, m = map(int, input().split())\n",
    "\n",
    "map = []\n",
    "for _ in range(n):\n",
    "    row = input()\n",
    "    map.append([int(row[j]) for j in range(m)])\n",
    "\n",
    "cnt = [0]\n",
    "\n",
    "def dfs(x,y):\n",
    "    if x== n-1 and y == m-1:\n",
    "        cnt[0]+=1\n",
    "        return cnt[0]\n",
    "        \n",
    "    if map[x][y] == 1:\n",
    "        cnt[0]+= 1\n",
    "        if x == n-1 and y < m-1:\n",
    "            dfs(x, y+1)\n",
    "        elif x < n-1 and y == m-1:\n",
    "            dfs(x+1, y)\n",
    "        else:\n",
    "            dfs(x, y+1)\n",
    "            dfs(x+1, y)\n",
    "        \n",
    "dfs(0,0)\n",
    "print(cnt[0])"
   ]
  }
 ]
}
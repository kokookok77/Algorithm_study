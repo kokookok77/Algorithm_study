{
 "metadata": {
  "language_info": {
   "codemirror_mode": {
    "name": "ipython",
    "version": 3
   },
   "file_extension": ".py",
   "mimetype": "text/x-python",
   "name": "python",
   "nbconvert_exporter": "python",
   "pygments_lexer": "ipython3",
   "version": "3.8.6-final"
  },
  "orig_nbformat": 2,
  "kernelspec": {
   "name": "python3",
   "display_name": "Python 3",
   "language": "python"
  }
 },
 "nbformat": 4,
 "nbformat_minor": 2,
 "cells": [
  {
   "cell_type": "code",
   "execution_count": 29,
   "metadata": {},
   "outputs": [
    {
     "output_type": "stream",
     "name": "stdout",
     "text": [
      "[1, 0, 0, 0, 0, 0, 0, 0, 0, 0, 0]\n[1, 1, 0, 0, 0, 0, 0, 0, 0, 0, 0]\n[1, 1, 0, 0, 0, 0, 0, 0, 0, 0, 0]\n[1, 1, 0, 0, 0, 0, 0, 0, 0, 0, 0]\n[1, 1, 1, 0, 0, 0, 0, 0, 0, 0, 0]\n[1, 1, 2, 0, 0, 0, 0, 0, 0, 0, 0]\n[1, 1, 2, 0, 0, 0, 0, 0, 0, 0, 0]\n[1, 1, 2, 2, 0, 0, 0, 0, 0, 0, 0]\n[1, 1, 2, 3, 0, 0, 0, 0, 0, 0, 0]\n[1, 1, 2, 3, 0, 0, 0, 0, 0, 0, 0]\n[1, 1, 2, 3, 3, 0, 0, 0, 0, 0, 0]\n[1, 1, 2, 3, 5, 0, 0, 0, 0, 0, 0]\n[1, 1, 2, 3, 5, 0, 0, 0, 0, 0, 0]\n[1, 1, 2, 3, 5, 5, 0, 0, 0, 0, 0]\n[1, 1, 2, 3, 5, 8, 0, 0, 0, 0, 0]\n[1, 1, 2, 3, 5, 9, 0, 0, 0, 0, 0]\n[1, 1, 2, 3, 5, 9, 9, 0, 0, 0, 0]\n[1, 1, 2, 3, 5, 9, 14, 0, 0, 0, 0]\n[1, 1, 2, 3, 5, 9, 15, 0, 0, 0, 0]\n[1, 1, 2, 3, 5, 9, 15, 15, 0, 0, 0]\n[1, 1, 2, 3, 5, 9, 15, 24, 0, 0, 0]\n[1, 1, 2, 3, 5, 9, 15, 26, 0, 0, 0]\n[1, 1, 2, 3, 5, 9, 15, 26, 26, 0, 0]\n[1, 1, 2, 3, 5, 9, 15, 26, 41, 0, 0]\n[1, 1, 2, 3, 5, 9, 15, 26, 44, 0, 0]\n[1, 1, 2, 3, 5, 9, 15, 26, 44, 44, 0]\n[1, 1, 2, 3, 5, 9, 15, 26, 44, 70, 0]\n[1, 1, 2, 3, 5, 9, 15, 26, 44, 75, 0]\n[1, 1, 2, 3, 5, 9, 15, 26, 44, 75, 75]\n[1, 1, 2, 3, 5, 9, 15, 26, 44, 75, 119]\n128\n"
     ]
    }
   ],
   "source": [
    "n, k = map(int, input().split())\n",
    "n_val = [ int(input()) for i in range(n)]\n",
    "d = [0 for i in range(k+1)]\n",
    "d[0] = 1\n",
    "\n",
    "\n",
    "for i in range(1, k+1):                     \n",
    "    for val in n_val:\n",
    "        print(d)\n",
    "        if i-val >= 0:\n",
    "            d[i] += d[i-val]\n",
    "print(d[k])"
   ]
  },
  {
   "cell_type": "code",
   "execution_count": null,
   "metadata": {},
   "outputs": [],
   "source": [
    "n, k = map(int, input().split())\r\n",
    "n_val = [ int(input()) for i in range(n)]\r\n",
    "d = [0 for i in range(k+1)]\r\n",
    "d[0] = 1\r\n",
    "\r\n",
    "def get_d(k):\r\n",
    "    m = 1\r\n",
    "    if k==0:\r\n",
    "        return m\r\n",
    "    else :\r\n",
    "        for val in n_val:\r\n",
    "            m+get_d(k-val)\r\n"
   ]
  }
 ]
}
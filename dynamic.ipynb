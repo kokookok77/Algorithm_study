{
 "metadata": {
  "language_info": {
   "codemirror_mode": {
    "name": "ipython",
    "version": 3
   },
   "file_extension": ".py",
   "mimetype": "text/x-python",
   "name": "python",
   "nbconvert_exporter": "python",
   "pygments_lexer": "ipython3",
   "version": "3.8.6-final"
  },
  "orig_nbformat": 2,
  "kernelspec": {
   "name": "python3",
   "display_name": "Python 3",
   "language": "python"
  }
 },
 "nbformat": 4,
 "nbformat_minor": 2,
 "cells": [
  {
   "cell_type": "code",
   "execution_count": 29,
   "metadata": {},
   "outputs": [
    {
     "output_type": "stream",
     "name": "stdout",
     "text": [
      "[1, 0, 0, 0, 0, 0, 0, 0, 0, 0, 0]\n[1, 1, 0, 0, 0, 0, 0, 0, 0, 0, 0]\n[1, 1, 0, 0, 0, 0, 0, 0, 0, 0, 0]\n[1, 1, 0, 0, 0, 0, 0, 0, 0, 0, 0]\n[1, 1, 1, 0, 0, 0, 0, 0, 0, 0, 0]\n[1, 1, 2, 0, 0, 0, 0, 0, 0, 0, 0]\n[1, 1, 2, 0, 0, 0, 0, 0, 0, 0, 0]\n[1, 1, 2, 2, 0, 0, 0, 0, 0, 0, 0]\n[1, 1, 2, 3, 0, 0, 0, 0, 0, 0, 0]\n[1, 1, 2, 3, 0, 0, 0, 0, 0, 0, 0]\n[1, 1, 2, 3, 3, 0, 0, 0, 0, 0, 0]\n[1, 1, 2, 3, 5, 0, 0, 0, 0, 0, 0]\n[1, 1, 2, 3, 5, 0, 0, 0, 0, 0, 0]\n[1, 1, 2, 3, 5, 5, 0, 0, 0, 0, 0]\n[1, 1, 2, 3, 5, 8, 0, 0, 0, 0, 0]\n[1, 1, 2, 3, 5, 9, 0, 0, 0, 0, 0]\n[1, 1, 2, 3, 5, 9, 9, 0, 0, 0, 0]\n[1, 1, 2, 3, 5, 9, 14, 0, 0, 0, 0]\n[1, 1, 2, 3, 5, 9, 15, 0, 0, 0, 0]\n[1, 1, 2, 3, 5, 9, 15, 15, 0, 0, 0]\n[1, 1, 2, 3, 5, 9, 15, 24, 0, 0, 0]\n[1, 1, 2, 3, 5, 9, 15, 26, 0, 0, 0]\n[1, 1, 2, 3, 5, 9, 15, 26, 26, 0, 0]\n[1, 1, 2, 3, 5, 9, 15, 26, 41, 0, 0]\n[1, 1, 2, 3, 5, 9, 15, 26, 44, 0, 0]\n[1, 1, 2, 3, 5, 9, 15, 26, 44, 44, 0]\n[1, 1, 2, 3, 5, 9, 15, 26, 44, 70, 0]\n[1, 1, 2, 3, 5, 9, 15, 26, 44, 75, 0]\n[1, 1, 2, 3, 5, 9, 15, 26, 44, 75, 75]\n[1, 1, 2, 3, 5, 9, 15, 26, 44, 75, 119]\n128\n"
     ]
    }
   ],
   "source": [
    "n, k = map(int, input().split())\n",
    "n_val = [ int(input()) for i in range(n)]\n",
    "d = [0 for i in range(k+1)]\n",
    "d[0] = 1\n",
    "\n",
    "\n",
    "for i in range(1, k+1):                     \n",
    "    for val in n_val:\n",
    "        print(d)\n",
    "        if i-val >= 0:\n",
    "            d[i] += d[i-val]\n",
    "print(d[k])"
   ]
  },
  {
   "cell_type": "code",
   "execution_count": null,
   "metadata": {},
   "outputs": [],
   "source": [
    "n, k = map(int, input().split())\r\n",
    "n_val = [ int(input()) for i in range(n)]\r\n",
    "d = [0 for i in range(k+1)]\r\n",
    "d[0] = 1\r\n",
    "\r\n",
    "def get_d(k):\r\n",
    "    m = 1\r\n",
    "    if k==0:\r\n",
    "        return m\r\n",
    "    else :\r\n",
    "        for val in n_val:\r\n",
    "            m+get_d(k-val)\r\n"
   ]
  },
  {
   "source": [
    "피보나치 수열 동적 프로그래밍"
   ],
   "cell_type": "markdown",
   "metadata": {}
  },
  {
   "cell_type": "code",
   "execution_count": 6,
   "metadata": {},
   "outputs": [
    {
     "output_type": "execute_result",
     "data": {
      "text/plain": [
       "354224848179261915075"
      ]
     },
     "metadata": {},
     "execution_count": 6
    }
   ],
   "source": [
    "fibo_cah = [0]*1000\n",
    "\n",
    "def fibo(n):\n",
    "    if n == 1 or n == 2:\n",
    "        return 1\n",
    "\n",
    "    if fibo_cah[n] != 0:\n",
    "        return fibo_cah[n]\n",
    "\n",
    "    fibo_cah[n] = fibo(n-1) + fibo(n-2)\n",
    "    return fibo_cah[n]\n",
    "fibo(100)"
   ]
  },
  {
   "source": [
    "1로 만들기"
   ],
   "cell_type": "markdown",
   "metadata": {}
  },
  {
   "cell_type": "code",
   "execution_count": 10,
   "metadata": {},
   "outputs": [
    {
     "output_type": "stream",
     "name": "stdout",
     "text": [
      "4\n"
     ]
    }
   ],
   "source": [
    "\n",
    "dp = [0]*30001\n",
    "x = int(input())\n",
    "for i in range(2, x+2):\n",
    "    if i == 2:\n",
    "        dp[i] = 2\n",
    "    dp[i] = dp[i-1]+1\n",
    "    if i % 5 == 0:\n",
    "        dp[i] = min(dp[i], dp[i//5]+1)\n",
    "    if i % 3 == 0:\n",
    "        dp[i] = min(dp[i], dp[i//3]+1)\n",
    "    if i % 2 == 0:\n",
    "        dp[i] = min(dp[i], dp[i//2]+1)\n",
    "\n",
    "print(dp[x])"
   ]
  },
  {
   "source": [
    "**최적 식량 배분**\n",
    "\n",
    "식량 창고의 배열이 주어졌을때 연속하지 않게 식량창고를 선택하여 최대의 식량을 선택하도록 하는 문제\n",
    "\n",
    "해답 : 큰 문제는 작은 문제로 쪼게어 해결. 각각의 작은 문제는 점화식으로 활용됨"
   ],
   "cell_type": "markdown",
   "metadata": {}
  },
  {
   "cell_type": "code",
   "execution_count": 16,
   "metadata": {},
   "outputs": [
    {
     "output_type": "stream",
     "name": "stdout",
     "text": [
      "8\n"
     ]
    }
   ],
   "source": [
    "import sys\n",
    "\n",
    "n = int(input())\n",
    "\n",
    "fs = list(map(int, input().split()))\n",
    "\n",
    "dp = [0]*n\n",
    "\n",
    "for i in range(n):\n",
    "    if i == 0:\n",
    "        dp[i] = fs[i]\n",
    "    elif i == 1:\n",
    "        dp[i] = max(dp[0], fs[1])\n",
    "    elif i >= 2:\n",
    "        dp[i] = max(dp[i-1], dp[i-2]+fs[i])\n",
    "print(dp[n-1])"
   ]
  },
  {
   "source": [
    "**타일로 바닥을 채울 수 있는 모든 경우의 수 구하기**\n",
    "\n",
    "\n",
    "타일의 형태와 바닥의 전체 크기가 주어졌을때 바닥을 채울 수 있는 전체 경우의 수\n",
    "\n",
    "해답 : 마찬가지로 바닥의 크기가 작을때부터 조금씩 커질때까지를 점화식으로 세워 해결"
   ],
   "cell_type": "markdown",
   "metadata": {}
  },
  {
   "cell_type": "code",
   "execution_count": 1,
   "metadata": {},
   "outputs": [
    {
     "output_type": "stream",
     "name": "stdout",
     "text": [
      "5\n"
     ]
    }
   ],
   "source": [
    "n = int(input())\n",
    "\n",
    "dp = [0]*n\n",
    "\n",
    "for i in range(n):\n",
    "    if i == 0:\n",
    "        dp[i] = 1\n",
    "    elif i == 1:\n",
    "        dp[i] = 3\n",
    "    elif i >= 2:\n",
    "        dp[i] = dp[i-1] + dp[i-2]*2\n",
    "\n",
    "print(dp[n-1])"
   ]
  },
  {
   "cell_type": "code",
   "execution_count": null,
   "metadata": {},
   "outputs": [],
   "source": [
    "** 최적 화폐 조합 **\n",
    "\n",
    "회폐의 종류 n, 목표 금액 m이 주어졌을때 주어진 종류의 화폐를 가장 최소로 사용하여 m을 달성\n"
   ]
  },
  {
   "cell_type": "code",
   "execution_count": 6,
   "metadata": {},
   "outputs": [
    {
     "output_type": "stream",
     "name": "stdout",
     "text": [
      "5\n"
     ]
    }
   ],
   "source": [
    "n, m = map(int, input().split())\n",
    "\n",
    "ml = [int(input()) for i in range(n)]\n",
    "\n",
    "dp = [100001]*(m+1)\n",
    "for i in range(m+1):\n",
    "    if i in ml:\n",
    "        dp[i] = 1\n",
    "    \n",
    "    else :\n",
    "        for j in ml:\n",
    "            if i-j >= 0 :\n",
    "                dp[i] = min(dp[i], dp[i-j]+1)  \n",
    "\n",
    "if dp[m] == 100001:\n",
    "    print(-1)\n",
    "else :\n",
    "    print(dp[m]) "
   ]
  }
 ]
}
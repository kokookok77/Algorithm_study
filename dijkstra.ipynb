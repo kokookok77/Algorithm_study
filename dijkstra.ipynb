{
 "metadata": {
  "language_info": {
   "codemirror_mode": {
    "name": "ipython",
    "version": 3
   },
   "file_extension": ".py",
   "mimetype": "text/x-python",
   "name": "python",
   "nbconvert_exporter": "python",
   "pygments_lexer": "ipython3",
   "version": "3.8.6-final"
  },
  "orig_nbformat": 2,
  "kernelspec": {
   "name": "python3",
   "display_name": "Python 3",
   "language": "python"
  }
 },
 "nbformat": 4,
 "nbformat_minor": 2,
 "cells": [
  {
   "cell_type": "code",
   "execution_count": 1,
   "metadata": {},
   "outputs": [
    {
     "output_type": "error",
     "ename": "ValueError",
     "evalue": "not enough values to unpack (expected 2, got 0)",
     "traceback": [
      "\u001b[1;31m---------------------------------------------------------------------------\u001b[0m",
      "\u001b[1;31mValueError\u001b[0m                                Traceback (most recent call last)",
      "\u001b[1;32m<ipython-input-1-1f3980e3584b>\u001b[0m in \u001b[0;36m<module>\u001b[1;34m\u001b[0m\n\u001b[0;32m      3\u001b[0m \u001b[0mINF\u001b[0m \u001b[1;33m=\u001b[0m \u001b[0mint\u001b[0m\u001b[1;33m(\u001b[0m\u001b[1;36m1e9\u001b[0m\u001b[1;33m)\u001b[0m\u001b[1;33m\u001b[0m\u001b[1;33m\u001b[0m\u001b[0m\n\u001b[0;32m      4\u001b[0m \u001b[1;33m\u001b[0m\u001b[0m\n\u001b[1;32m----> 5\u001b[1;33m \u001b[0mn\u001b[0m\u001b[1;33m,\u001b[0m \u001b[0mm\u001b[0m \u001b[1;33m=\u001b[0m \u001b[0mmap\u001b[0m\u001b[1;33m(\u001b[0m\u001b[0mint\u001b[0m\u001b[1;33m,\u001b[0m \u001b[0minput\u001b[0m\u001b[1;33m(\u001b[0m\u001b[1;33m)\u001b[0m\u001b[1;33m.\u001b[0m\u001b[0msplit\u001b[0m\u001b[1;33m(\u001b[0m\u001b[1;33m)\u001b[0m\u001b[1;33m)\u001b[0m\u001b[1;33m\u001b[0m\u001b[1;33m\u001b[0m\u001b[0m\n\u001b[0m\u001b[0;32m      6\u001b[0m \u001b[1;33m\u001b[0m\u001b[0m\n\u001b[0;32m      7\u001b[0m \u001b[0mstart\u001b[0m \u001b[1;33m=\u001b[0m \u001b[0mint\u001b[0m\u001b[1;33m(\u001b[0m\u001b[0minput\u001b[0m\u001b[1;33m(\u001b[0m\u001b[1;33m)\u001b[0m\u001b[1;33m)\u001b[0m\u001b[1;33m\u001b[0m\u001b[1;33m\u001b[0m\u001b[0m\n",
      "\u001b[1;31mValueError\u001b[0m: not enough values to unpack (expected 2, got 0)"
     ]
    }
   ],
   "source": [
    "import sys\n",
    "input = sys.stdin.readline\n",
    "INF = int(1e9)\n",
    "\n",
    "n, m = map(int, input().split())\n",
    "\n",
    "start = int(input())\n",
    "\n",
    "graph = [[] for _ in range(n+1)]\n",
    "\n",
    "visited = [False]*(n+1)\n",
    "\n",
    "dist = [INF]*(n+1)\n",
    "\n",
    "for _ in range(m):\n",
    "    a,b,c = map(int, input().split())\n",
    "\n",
    "    graph[a].append((b,c))\n",
    "\n",
    "\n",
    "def get_smallest_node():\n",
    "    min_val = INF\n",
    "    index = 0 \n",
    "    for i in range(1, n+1):\n",
    "        if dist[i] < min_val and not visited[i]:\n",
    "            min_val = dist[i]\n",
    "            index = i\n",
    "\n",
    "    return index\n",
    "\n",
    "def dijkstra(start):\n",
    "    dist[start] = 0\n",
    "    visited[start] = True\n",
    "    for i in graph[start]:\n",
    "        dist[i[0]] = i[1]\n",
    "\n",
    "    for i in range(n-1):\n",
    "        now = get_smallest_node()\n",
    "        vistied[now] = True\n",
    "\n",
    "        for j in graph[now]:\n",
    "            cost = dist[now] + j[1]\n",
    "\n",
    "            if cost < dist[j[0]]:\n",
    "                dist[j[0]] = cost\n"
   ]
  },
  {
   "source": [
    "heapq를 사용하여 개선된 dijkstra"
   ],
   "cell_type": "markdown",
   "metadata": {}
  },
  {
   "cell_type": "code",
   "execution_count": null,
   "metadata": {},
   "outputs": [],
   "source": [
    "import heapq\n",
    "import sys\n",
    "\n",
    "input = sys.stdin.readline\n",
    "\n",
    "INF = int(1e9)\n",
    "\n",
    "n, m = map(int, input().split())\n",
    "\n",
    "start = int(input())\n",
    "\n",
    "graph = [[] for _ in range(n+1)]\n",
    "\n",
    "dist = [INF] * (n+1)\n",
    "\n",
    "for _ in range(m):\n",
    "    a,b,c = map(int, input().split())\n",
    "    graph[a].append((b,c))\n",
    "\n",
    "def dijkstra(start):\n",
    "    q = []\n",
    "\n",
    "    heapq.heappush(q, (0, start))\n",
    "\n",
    "    dist[start] = 0\n",
    "\n",
    "    while q:\n",
    "        distance, now = heapq.heappop(q)\n",
    "\n",
    "        if dist[now] < distance:\n",
    "            continue\n",
    "        for i in graph[now]:\n",
    "            cost = distance + i[1]\n",
    "\n",
    "            if cost < dist[i[0]]:\n",
    "                dist[i[0]] = cost\n",
    "                heapq.heappush(q, (cost, i[0]))\n",
    "\n",
    "dijkstra(start)\n"
   ]
  },
  {
   "cell_type": "code",
   "execution_count": null,
   "metadata": {},
   "outputs": [],
   "source": [
    "import sys\n",
    "import heapq\n",
    "\n",
    "input = sys.stdin.readline\n",
    "\n",
    "INF = int(1e9)\n",
    "\n",
    "n,m = map(int, input().split())\n",
    "\n",
    "graph = [[] for _ in range(n+1)]\n",
    "\n",
    "dist = [INF]*(n+1)\n",
    "\n",
    "for i in range(m):\n",
    "    a,b,c = map(int, input().split())\n",
    "    graph[a].append((b,c))\n",
    "\n",
    "def dijkstra(start):\n",
    "    q = []\n",
    "    heapq.heappush(q, (0, start))\n",
    "\n",
    "    while q:\n",
    "        distance, now = heapq.heappop(q)\n",
    "\n",
    "        if dist[now] < distance:\n",
    "            continue\n",
    "\n",
    "        for i in graph[now]:\n",
    "            cost = distance + i[1]\n",
    "            if cost < dist[i[0]]:\n",
    "                dist[i[0]] = cost\n",
    "                heaqp.heappush(q, (cost, i[0]))"
   ]
  },
  {
   "source": [
    "경유지가 있을때 최단 경로를 찾는 문제 -> 그래프의 노드가 작다면 플로이드 워셜로 간단히 구현 가능"
   ],
   "cell_type": "markdown",
   "metadata": {}
  },
  {
   "cell_type": "code",
   "execution_count": null,
   "metadata": {},
   "outputs": [],
   "source": [
    "import heapq\n",
    "INF = int(1e9)\n",
    "\n",
    "n, m = map(int, input().split())\n",
    "\n",
    "graph = [[INF]*(n+1) for _ in range(n+1)]\n",
    "\n",
    "for i in range(n+1):\n",
    "    graph[i][i] = 0\n",
    "\n",
    "for i in range(m):\n",
    "    a, b = map(int, input().split())\n",
    "    graph[a][b] = 1\n",
    "    graph[b][a] = 1\n",
    "\n",
    "x, k = map(int, input().split())\n",
    "\n",
    "for i in range(n+1):\n",
    "    for j in range(n+1):\n",
    "        for k in range(n+1):\n",
    "            graph[i][j] = min(graph[i][j], graph[i][k] + graph[k][j])\n",
    "\n",
    "dist = graph[1][k] + graph[k][x]\n",
    "if dist = INF:\n",
    "    print(-1)\n",
    "else:\n",
    "    print(dist)"
   ]
  },
  {
   "source": [
    "다이크스트라 예제"
   ],
   "cell_type": "markdown",
   "metadata": {}
  },
  {
   "cell_type": "code",
   "execution_count": 14,
   "metadata": {},
   "outputs": [
    {
     "output_type": "stream",
     "name": "stdout",
     "text": [
      "2   4\n"
     ]
    }
   ],
   "source": [
    "import heapq\n",
    "\n",
    "n, m, start = map(int, input().split())\n",
    "INF = int(1e9)\n",
    "dist = [INF]*(n+1)\n",
    "\n",
    "\n",
    "graph = [[] for i in range(n+1)]\n",
    "for i in range(m):\n",
    "    a,b,c = map(int, input().split())\n",
    "    graph[a].append([b,c])\n",
    "\n",
    "\n",
    "def dejk(start):\n",
    "    q = []\n",
    "    heapq.heappush(q, (0, start))\n",
    "    dist[start] = 0\n",
    "    while q:\n",
    "        distance, node = heapq.heappop(q)\n",
    "        if dist[node] < distance:\n",
    "            continue\n",
    "        for i in graph[node]:\n",
    "            cost = distance + i[1]\n",
    "            if cost < dist[i[0]]:\n",
    "                dist[i[0]] = cost\n",
    "                heapq.heappush(q, (cost, i[0]))\n",
    "\n",
    "dejk(start)\n",
    "maxd = 0\n",
    "cnt = 0\n",
    "for i in dist:\n",
    "    if i<INF:\n",
    "        cnt+=1\n",
    "        maxd = max(i, maxd)\n",
    "print(cnt-1, \" \", maxd)"
   ]
  }
 ]
}
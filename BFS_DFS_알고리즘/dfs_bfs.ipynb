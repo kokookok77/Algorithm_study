{
 "metadata": {
  "language_info": {
   "codemirror_mode": {
    "name": "ipython",
    "version": 3
   },
   "file_extension": ".py",
   "mimetype": "text/x-python",
   "name": "python",
   "nbconvert_exporter": "python",
   "pygments_lexer": "ipython3",
   "version": "3.8.5-final"
  },
  "orig_nbformat": 2,
  "kernelspec": {
   "name": "python3",
   "display_name": "Python 3",
   "language": "python"
  }
 },
 "nbformat": 4,
 "nbformat_minor": 2,
 "cells": [
  {
   "source": [
    "DFS 기본 구현\n"
   ],
   "cell_type": "markdown",
   "metadata": {}
  },
  {
   "cell_type": "code",
   "execution_count": null,
   "metadata": {},
   "outputs": [],
   "source": [
    "def dfs(graph, v, visited):\n",
    "    # 현재 노드를 방문 처리\n",
    "    vistied[v] = True\n",
    "\n",
    "    # 현재 노드와 연결된 다른 노드를 재귀적으로 탐색\n",
    "    for i in graph[v]:\n",
    "        if not visited[i]:\n",
    "            dfs(graph, i, visited)\n",
    "# 각 노드의 연결정보는 리스트 자료형으로 표현\n",
    "# ex_\n",
    "graph = [\n",
    "    [],\n",
    "    [2, 3, 8],\n",
    "    [1, 7],\n",
    "    [1, 5, 6],\n",
    "    [3, 5],\n",
    "    [3, 4],\n",
    "    [7],\n",
    "    [2, 6, 8],\n",
    "    [1, 7]\n",
    "]\n",
    "\n",
    "visited = [False]*9"
   ]
  },
  {
   "source": [
    "BFS 기본 구현"
   ],
   "cell_type": "markdown",
   "metadata": {}
  },
  {
   "cell_type": "code",
   "execution_count": null,
   "metadata": {},
   "outputs": [],
   "source": [
    "from collections import deque\n",
    "\n",
    "def bfs(graph, v, visited):\n",
    "    q = deque([v])\n",
    "    visited[v] = True\n",
    "\n",
    "    while q:\n",
    "        node = q.popleft()\n",
    "        for i in graph[node]:\n",
    "            if not visited[i]:\n",
    "                q.append(i)\n",
    "                visited[i] = True"
   ]
  },
  {
   "source": [
    "얼음 조각의 갯수"
   ],
   "cell_type": "markdown",
   "metadata": {}
  },
  {
   "cell_type": "code",
   "execution_count": 13,
   "metadata": {},
   "outputs": [
    {
     "output_type": "stream",
     "name": "stdout",
     "text": [
      "1 False\n2 False\n3 False\n4 False\n0 True\n"
     ]
    },
    {
     "output_type": "execute_result",
     "data": {
      "text/plain": [
       "True"
      ]
     },
     "metadata": {},
     "execution_count": 13
    }
   ],
   "source": [
    "# n, m = map(int, input().split())\n",
    "# map = []\n",
    "\n",
    "# for _ in range(n):\n",
    "#     map.append(list(input().split()))\n",
    "\n",
    "map = [[0,1],[1,1]]\n",
    "n,m = 2,2\n",
    "count = 0\n",
    "def dfs(map, node, count):\n",
    "    x = node[0]\n",
    "    y = node[1]\n",
    "    if x>=0 and x<= n-1 and y>=0 and y<=m-1:\n",
    "        if map[x][y] == 0:\n",
    "            map[x][y] = 1\n",
    "            dfs(map, [x-1, y], 1)\n",
    "            dfs(map, [x+1, y], 2)\n",
    "            dfs(map, [x, y-1], 3)\n",
    "            dfs(map, [x, y+1], 4)\n",
    "            print(count, \"True\")\n",
    "            return True\n",
    "        else:\n",
    "            print(count, \"False\")\n",
    "            return\n",
    "\n",
    "    else:\n",
    "        print(count, \"False\")\n",
    "        return False\n",
    "\n",
    "        \n",
    "dfs(map, [0,0], count)"
   ]
  },
  {
   "cell_type": "code",
   "execution_count": 1,
   "metadata": {},
   "outputs": [
    {
     "output_type": "stream",
     "name": "stdout",
     "text": [
      "2\n24.33203125\n"
     ]
    }
   ],
   "source": [
    "import sys\n",
    "from collections import deque\n",
    "import os\n",
    "import psutil\n",
    "process = psutil.Process(os.getpid())\n",
    "\n",
    "# bfs 로 풀 경우\n",
    "\n",
    "n, m = map(int, input().split())\n",
    "\n",
    "map = []\n",
    "\n",
    "for i in range(n):\n",
    "    row = input()\n",
    "    map.append([ int(row[i]) for i in range(len(row)) ])\n",
    "\n",
    "visited = [[ False for i in range(m)] for j in range(n)]\n",
    "\n",
    "icecream = 0\n",
    "\n",
    "queue = deque()\n",
    "\n",
    "def bfs(graph, start, visited):\n",
    "\n",
    "    y, x = start\n",
    "\n",
    "    if y >= n or y <= -1  or x <= -1 or x >= m: \n",
    "        return False\n",
    "    else :        \n",
    "        if visited[y][x] == False and graph[y][x] == 0: \n",
    "            queue.append([start])        \n",
    "            visited[y][x] = True\n",
    "\n",
    "    while queue:\n",
    "        v = queue.popleft()\n",
    "        _y, _x = v[0]\n",
    "\n",
    "        if _y >= n or _y <= -1  or _x <= -1 or _x >= m: \n",
    "            return False\n",
    "        else :\n",
    "            bfs(map, (_y+1, x), visited)\n",
    "            bfs(map, (_y-1, x), visited)\n",
    "            bfs(map, (_y, x+1), visited)\n",
    "            bfs(map, (_y, x-1), visited)\n",
    "        \n",
    "            return True\n",
    "\n",
    "for i in range(n):\n",
    "    for j in range(m):\n",
    "        if bfs(map, (i,j), visited) == True:\n",
    "            icecream += 1\n",
    "print(icecream)\n",
    "\n",
    "print(process.memory_info().rss /(2.0 ** 20))  # in bytes "
   ]
  },
  {
   "cell_type": "code",
   "execution_count": 1,
   "metadata": {},
   "outputs": [
    {
     "output_type": "stream",
     "name": "stdout",
     "text": [
      "2\n"
     ]
    }
   ],
   "source": [
    "import time\n",
    "start = time.now()\n",
    "n, m = map(int, input().split())\n",
    "\n",
    "map = []\n",
    "for i in range(n):\n",
    "    row = input()\n",
    "    map.append([int(row[i]) for i in range(m)])\n",
    "\n",
    "def dfs(x, y):\n",
    "    if x>=n or x<=-1 or y>=m or y<=-1:\n",
    "        return False\n",
    "    if map[x][y] == 0:\n",
    "        map[x][y] += 1\n",
    "        dfs(x+1, y)\n",
    "        dfs(x-1, y)\n",
    "        dfs(x, y+1)\n",
    "        dfs(x, y-1)\n",
    "        return True\n",
    "    else :\n",
    "        return False\n",
    "\n",
    "icecream = 0 \n",
    "for i in range(n):\n",
    "    for j in range(m):\n",
    "        if dfs(i, j) == True:\n",
    "            icecream +=1\n",
    "print(icecream)\n",
    "end = time.now()\n",
    "print(end-start)\n"
   ]
  },
  {
   "cell_type": "code",
   "execution_count": 13,
   "metadata": {},
   "outputs": [
    {
     "output_type": "stream",
     "name": "stdout",
     "text": [
      "29.76171875\n"
     ]
    }
   ],
   "source": [
    "import os\n",
    "import psutil\n",
    "process = psutil.Process(os.getpid())\n",
    "print(process.memory_info().rss /(2.0 ** 20))  # in bytes "
   ]
  },
  {
   "cell_type": "code",
   "execution_count": 1,
   "metadata": {},
   "outputs": [],
   "source": [
    "n, m = map(int, input().split())\n",
    "\n",
    "map = []\n",
    "for _ in range(n):\n",
    "    row = input()\n",
    "    map.append([int(row[j]) for j in range(m)])\n",
    "\n",
    "cnt = [0]\n",
    "\n",
    "def dfs(x,y):\n",
    "    if x== n-1 and y == m-1:\n",
    "        cnt[0]+=1\n",
    "        return cnt[0]\n",
    "        \n",
    "    if map[x][y] == 1:\n",
    "        cnt[0]+= 1\n",
    "        if x == n-1 and y < m-1:\n",
    "            dfs(x, y+1)\n",
    "        elif x < n-1 and y == m-1:\n",
    "            dfs(x+1, y)\n",
    "        else:\n",
    "            dfs(x, y+1)\n",
    "            dfs(x+1, y)\n",
    "        \n",
    "dfs(0,0)\n",
    "print(cnt[0])"
   ]
  },
  {
   "source": [
    "최단 거리 출력 문제"
   ],
   "cell_type": "markdown",
   "metadata": {}
  },
  {
   "cell_type": "code",
   "execution_count": null,
   "metadata": {},
   "outputs": [],
   "source": [
    "from collections import deque\n",
    "n, m, k, x = map(int, input().split())\n",
    "\n",
    "map = [[] for _ in range(n+1)]\n",
    "for _ in range(m):\n",
    "    row = list(map(int, input().split()))\n",
    "    map[row[0]].push(row[1])\n",
    "\n",
    "\n",
    "q = deque()\n",
    "dist = [0]*(n+1)\n",
    "q.append([x])\n",
    "visited = [False]*(n+1)\n",
    "while q:\n",
    "    now = q.popleft()[0]\n",
    "    nodes = map[now]\n",
    "    for node in nodes:\n",
    "        if not visited[node]:\n",
    "            dist[node] = dist[now] + 1\n",
    "            q.append([node])\n",
    "check = False\n",
    "for i in range(1, n+1):\n",
    "    if dist[i] == k:\n",
    "        print(i)\n",
    "        check = True\n",
    "\n",
    "\n",
    "if check == False:\n",
    "    print(-1)"
   ]
  },
  {
   "cell_type": "code",
   "execution_count": 6,
   "metadata": {
    "tags": []
   },
   "outputs": [
    {
     "output_type": "stream",
     "name": "stdout",
     "text": [
      "3\n"
     ]
    }
   ],
   "source": [
    "from itertools import combinations\n",
    "\n",
    "# n, m  = map(int, input().split())\n",
    "# graph = []\n",
    "# for _ in range(n):\n",
    "#     graph.append(list(map(int, input().split())))\n",
    "\n",
    "n, m = 8,8\n",
    "\n",
    "graph = [\n",
    "    [2, 0, 0, 0, 0, 0, 0, 2],\n",
    "    [2, 0, 0, 0, 0, 0, 0, 2],\n",
    "    [2, 0, 0, 0, 0, 0, 0, 2],\n",
    "    [2, 0, 0, 0, 0, 0, 0, 2],\n",
    "    [2, 0, 0, 0, 0, 0, 0, 2],\n",
    "    [0, 0, 0, 0, 0, 0, 0, 0],\n",
    "    [0, 0, 0, 0, 0, 0, 0, 0],\n",
    "    [0, 0, 0, 0, 0, 0, 0, 0]\n",
    "\n",
    "]\n",
    "\n",
    "\n",
    "zeros = []\n",
    "virus = []\n",
    "for i in range(n):\n",
    "    for j in range(m):\n",
    "        if graph[i][j] == 0:\n",
    "            zeros.append([i, j])\n",
    "        elif graph[i][j] == 2:\n",
    "            virus.append([i,j])\n",
    "\n",
    "def contem(graph, start):\n",
    "    x, y = start[0], start[1]\n",
    "    if x>=n or x<0 or y>=m or y<0:\n",
    "        pass\n",
    "    else:\n",
    "        if graph[x][y] == 0:\n",
    "            graph[x][y] = 2\n",
    "            contem(graph, [x+1, y])\n",
    "            contem(graph, [x-1, y])\n",
    "            contem(graph, [x, y+1])\n",
    "            contem(graph, [x, y-1])\n",
    "\n",
    "def count_safe(graph):\n",
    "    count = 0\n",
    "    for i in range(n):\n",
    "        for j in range(m):\n",
    "            if graph[i][j] == 0:\n",
    "                count+=1\n",
    "    return count\n",
    "\n",
    "max_safe_area = 0\n",
    "for comb in combinations(zeros, 3):\n",
    "    for node in comb:\n",
    "        graph[node[0]][node[1]] = 1\n",
    "    for node in virus:\n",
    "        graph[node[0]][node[1]] = 0\n",
    "    for v in virus:\n",
    "        contem(graph, v)\n",
    "    max_safe_area = max(max_safe_area, count_safe(graph))\n",
    "    \n",
    "    for node in comb:\n",
    "        graph[node[0]][node[1]] = 0\n",
    "    for z in zeros:\n",
    "        graph[z[0]][z[1]] = 0\n",
    "    for v in virus:\n",
    "        graph[v[0]][v[1]] = 2\n",
    "\n",
    "print(max_safe_area)\n"
   ]
  },
  {
   "cell_type": "code",
   "execution_count": 11,
   "metadata": {},
   "outputs": [
    {
     "output_type": "stream",
     "name": "stdout",
     "text": [
      "3\n"
     ]
    }
   ],
   "source": [
    "# n, m = map(int, input().split())\n",
    "\n",
    "# room = []\n",
    "# for _ in range(n):\n",
    "#     room.append(list(map, input().split()))\n",
    "# s, x, y = map(int, input().split())\n",
    "\n",
    "n,m = 3, 3\n",
    "room = [\n",
    "    [1, 0, 2],\n",
    "    [0, 0, 0],\n",
    "    [3, 0, 0]\n",
    "]\n",
    "\n",
    "fs, fx, fy = 2, 3, 2\n",
    "\n",
    "v_list = [[] for _ in range(m+1)]\n",
    "for i in range(m+1):\n",
    "    for j in range(n):\n",
    "        for k in range(n):    \n",
    "            if i == room[j][k]:\n",
    "                v_list[i].append([j,k])\n",
    "\n",
    "\n",
    "dx = [-1, 0, 1, 0]\n",
    "dy = [0, -1, 0, 1]\n",
    "\n",
    "for _ in range(fs):\n",
    "    for idx in range(len(v_list)):\n",
    "        v = v_list[idx]\n",
    "        for v_node in v:\n",
    "            for i in range(4):\n",
    "                x = v_node[0] + dx[i]\n",
    "                y = v_node[1] + dy[i]\n",
    "                if x>=0 and x<n and y>=0 and y<n:\n",
    "                    if room[x][y] == 0:\n",
    "                        room[x][y] = idx\n",
    "\n",
    "        v = []\n",
    "        for l in range(n):\n",
    "            for m in range(m):\n",
    "                if room[l][m] == idx:\n",
    "                    v.append([l, m])\n",
    "        v_list[idx] = v\n",
    "\n",
    "print(room[fx-1][fy-1])\n"
   ]
  },
  {
   "source": [
    "문자열 뒤집기\n",
    "https://programmers.co.kr/learn/30/lessons/60058"
   ],
   "cell_type": "markdown",
   "metadata": {}
  },
  {
   "cell_type": "code",
   "execution_count": 42,
   "metadata": {},
   "outputs": [],
   "source": [
    "def check_balance(input_str):\n",
    "    if input_str.count(\"(\") == input_str.count(\")\"):\n",
    "        return True\n",
    "    else: \n",
    "        return False\n",
    "\n",
    "\n",
    "def check_right(input_str):\n",
    "    ol = 0\n",
    "    cl = 0\n",
    "    for s in input_str:\n",
    "        if s == \"(\": \n",
    "            ol+=1\n",
    "        else:\n",
    "            cl+=1\n",
    "        if ol < cl:\n",
    "            return False\n",
    "    return True\n",
    "        \n",
    "\n",
    "def sol(input_str):\n",
    "    if input_str == \"\":\n",
    "        return \"\"\n",
    "    for i in range(0, len(input_str)+1, 2):\n",
    "        if check_balance(input_str[0:i]) == True and input_str[0:i] != \"\":\n",
    "            u = input_str[0:i]\n",
    "            v = input_str[i:]\n",
    "            print(u, \"U\")\n",
    "            print(v, \"V\")\n",
    "            if check_right(u) == True:\n",
    "                print(True)\n",
    "                return u+sol(v)\n",
    "            else:\n",
    "                s = \"(\"+sol(v)+\")\"\n",
    "                u = u[1:-1]\n",
    "                u = u.replace(\"(\", \"1\").replace(\")\", \"(\").replace(\"1\", \")\")\n",
    "                return s+u"
   ]
  },
  {
   "cell_type": "code",
   "execution_count": 20,
   "metadata": {},
   "outputs": [
    {
     "output_type": "stream",
     "name": "stdout",
     "text": [
      "(0, 0, 1, 2, 3)\n(0, 0, 2, 1, 3)\n(0, 1, 0, 2, 3)\n(0, 1, 2, 3, 0)\n(0, 1, 3, 0, 2)\n(0, 1, 3, 0, 2)\n(1, 0, 3, 0, 2)\n(1, 0, 3, 0, 2)\n(1, 3, 0, 0, 2)\n(1, 3, 0, 0, 2)\n54\n-24\n"
     ]
    }
   ],
   "source": [
    "from itertools import permutations as perm\n",
    "n_cnt = int(input())\n",
    "n = list(map(int, input().split()))\n",
    "max = 0\n",
    "min = 1000000000\n",
    "\n",
    "comp = list(map(int, input().split()))\n",
    "cal = []\n",
    "for i in range(4):\n",
    "    for _ in range(comp[i]):\n",
    "        cal.append(i)\n",
    "\n",
    "for per in perm(cal, n_cnt-1):\n",
    "    n1 = n[0]\n",
    "    for i in range(1, n_cnt):\n",
    "        if per[i-1] == 0:\n",
    "            n1 += n[i]\n",
    "        elif per[i-1] == 1:\n",
    "            n1 -= n[i]\n",
    "        elif per[i-1] == 3:\n",
    "            if n1 > 0:\n",
    "                n1 = n1//n[i]\n",
    "            else :\n",
    "                n1 = (-1*n1)//n[i]\n",
    "                n1 *= -1\n",
    "        else:\n",
    "            n1*=n[i]\n",
    "\n",
    "    if n1 >= max :\n",
    "        max = n1\n",
    "        print(per)\n",
    "    \n",
    "    if n1 <= min :\n",
    "        min = n1\n",
    "\n",
    "print(max)\n",
    "print(min)"
   ]
  },
  {
   "cell_type": "code",
   "execution_count": 19,
   "metadata": {},
   "outputs": [
    {
     "output_type": "execute_result",
     "data": {
      "text/plain": [
       "0"
      ]
     },
     "metadata": {},
     "execution_count": 19
    }
   ],
   "source": [
    "1//3"
   ]
  },
  {
   "cell_type": "code",
   "execution_count": 41,
   "metadata": {
    "tags": []
   },
   "outputs": [
    {
     "output_type": "execute_result",
     "data": {
      "text/plain": [
       "'YES'"
      ]
     },
     "metadata": {},
     "execution_count": 41
    }
   ],
   "source": [
    "from itertools import combinations as combin\n",
    "\n",
    "n = int(input())\n",
    "\n",
    "# map = []\n",
    "# for _ in range(n):\n",
    "#     map.append(list(input().split()))\n",
    "\n",
    "def check(map, n):\n",
    "    for i in range(n):\n",
    "        stat = 0\n",
    "        for j in range(n):\n",
    "            if map[i][j] == \"T\" and stat == 1:\n",
    "                return False\n",
    "            elif map[i][j] == \"S\":\n",
    "                if stat == 2:\n",
    "                    return False\n",
    "                else:\n",
    "                    stat = 1\n",
    "            elif map[i][j] == \"T\" and stat != 1:\n",
    "                stat = 2\n",
    "                pass\n",
    "            elif map[i][j] == \"B\":\n",
    "                stat = 0\n",
    "                pass\n",
    "            else:\n",
    "                pass\n",
    "\n",
    "    for i in range(n):\n",
    "        stat = 0\n",
    "        for j in range(n):\n",
    "            if map[j][i] == \"T\" and stat == 1:\n",
    "                return False\n",
    "            elif map[j][i] == \"S\":\n",
    "                if stat == 2:\n",
    "                    return False\n",
    "                else:\n",
    "                    stat = 1\n",
    "            elif map[j][i] == \"T\" and stat != 1:\n",
    "                stat = 2\n",
    "                pass\n",
    "            elif map[j][i] == \"B\":\n",
    "                stat = 0\n",
    "                pass\n",
    "            else:\n",
    "                pass\n",
    "    return True\n",
    "            \n",
    "\n",
    "def sol(map, n):\n",
    "    map_x = []\n",
    "    for i in range(n):\n",
    "        for j in range(n):\n",
    "            if map[i][j] == 'X':\n",
    "                map_x.append([i, j])\n",
    "    if len(map_x) < 3:\n",
    "        return \"NO\"\n",
    "    else:\n",
    "        ans = False\n",
    "        for comb in combin(map_x, 3):\n",
    "            for point in comb:\n",
    "                map[point[0]][point[1]] = \"B\"\n",
    "            if check(map, n):\n",
    "                ans = True\n",
    "                break\n",
    "\n",
    "            for point in comb:\n",
    "                map[point[0]][point[1]] = \"X\"\n",
    "\n",
    "\n",
    "        return \"YES\" if ans == True else \"NO\" \n",
    "\n",
    "map = [\n",
    "    [\"X\", \"S\", \"X\", \"X\", \"T\"],\n",
    "    [\"T\", \"X\", \"S\", \"X\", \"X\"],\n",
    "    [\"X\", \"X\", \"X\", \"X\", \"X\"],\n",
    "    [\"X\", \"T\", \"X\", \"X\", \"X\"],\n",
    "    [\"X\", \"X\", \"T\", \"X\", \"X\"]\n",
    "]\n",
    "\n",
    "sol(map, n)"
   ]
  },
  {
   "cell_type": "code",
   "execution_count": 39,
   "metadata": {},
   "outputs": [
    {
     "output_type": "execute_result",
     "data": {
      "text/plain": [
       "True"
      ]
     },
     "metadata": {},
     "execution_count": 39
    }
   ],
   "source": []
  }
 ]
}
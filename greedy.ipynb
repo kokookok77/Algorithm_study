{
 "metadata": {
  "language_info": {
   "codemirror_mode": {
    "name": "ipython",
    "version": 3
   },
   "file_extension": ".py",
   "mimetype": "text/x-python",
   "name": "python",
   "nbconvert_exporter": "python",
   "pygments_lexer": "ipython3",
   "version": "3.8.5-final"
  },
  "orig_nbformat": 2,
  "kernelspec": {
   "name": "python3",
   "display_name": "Python 3",
   "language": "python"
  }
 },
 "nbformat": 4,
 "nbformat_minor": 2,
 "cells": [
  {
   "source": [
    "{GREEDY Agorithm Example}"
   ],
   "cell_type": "markdown",
   "metadata": {}
  },
  {
   "source": [
    "1. 큰 수의 법칙\n",
    "다양한 수로 이뤄진 배열이 있을때 주어진 수들을 연속해서 M번 더하여 가장 큰 수를 찾는 문제\n",
    "단, 같은 숫자를 k번 초과하여 더할 수 없다. 또힌, 배열의 인덱스가 다르면 값이 같은 숫자라고 하더라도 다른 숫자로 간주한다.\n",
    "\n",
    "1-1. 문제 입력 예시\n",
    "N, M, K = 10, 5, 2\n",
    "List = [2, 4, 5, 5, 2, 1, 6, 7, 1, 2] \n",
    "주어지는 k는 항상 M보다 작거나 같다.\n",
    "\n",
    "Idea : 결국 가장 큰 두개의 숫자만으로 번갈아가면서 더해주면 가장 큰 수를 만들 수 있다.\n",
    "\n",
    "답안 예시1. "
   ],
   "cell_type": "markdown",
   "metadata": {}
  },
  {
   "cell_type": "code",
   "execution_count": 47,
   "metadata": {},
   "outputs": [
    {
     "output_type": "stream",
     "name": "stdout",
     "text": [
      "10\n20\n29\n39\n49\n[10, 9, 8, 8, 2, 2, 2, 1, 1, 0]\n49\n"
     ]
    }
   ],
   "source": [
    "import random\n",
    "\n",
    "\n",
    "N = 10\n",
    "M = 5\n",
    "k = 2\n",
    "List = [ random.randint(0, N) for i in range(10)]\n",
    "\n",
    "List.sort(reverse=True)\n",
    "max_val = List[0]\n",
    "sencond_max_val = List[1]\n",
    "\n",
    "max_sum = 0\n",
    "\n",
    "cont = 0\n",
    "for i in range(M):\n",
    "    if cont == k:\n",
    "        max_sum += sencond_max_val\n",
    "        cont = 0\n",
    "        print(max_sum)\n",
    "    else:\n",
    "        cont += 1\n",
    "        max_sum += max_val\n",
    "        print(max_sum)\n",
    "print(List)\n",
    "print(max_sum)\n",
    "\n"
   ]
  },
  {
   "source": [
    "위의 답안은 반복문으로 사용하여 N, M 이 커질때 시간복잡도가 그만큼 증가한다.\n",
    "조금 더 영리한 방법\n",
    "답안 예시 2"
   ],
   "cell_type": "markdown",
   "metadata": {}
  },
  {
   "cell_type": "code",
   "execution_count": 52,
   "metadata": {},
   "outputs": [
    {
     "output_type": "stream",
     "name": "stdout",
     "text": [
      "[9, 9, 9, 9, 8, 7, 4, 3, 2, 0]\n45\n"
     ]
    }
   ],
   "source": [
    "\n",
    "\n",
    "import random\n",
    "\n",
    "N = 10\n",
    "M = 5\n",
    "k = 2\n",
    "List = [ random.randint(0, N) for i in range(10)]\n",
    "\n",
    "List.sort(reverse=True)\n",
    "max_val = List[0]\n",
    "second_max_val = List[1]\n",
    "\n",
    "max_sum = (int(M/(k+1))) * max_val * k + int(M/(k+1)) * second_max_val + (M - int(M/(k+1))*(k+1)) * max_val\n",
    "\n",
    "print(List)\n",
    "print(max_sum)\n",
    "\n"
   ]
  },
  {
   "cell_type": "code",
   "execution_count": 36,
   "metadata": {},
   "outputs": [
    {
     "output_type": "stream",
     "name": "stdout",
     "text": [
      "[3, 1, 5, 8, 4, 6, 5, 8, 7, 5]\n1 3\n0.007978200912475586\n"
     ]
    }
   ],
   "source": [
    "import time\n",
    "import random\n",
    "\n",
    "start = time.time()\n",
    "a =[ random.randint(1, 10) for i in range(10)]\n",
    "print(a)\n",
    "a.sort(reverse=True)\n",
    "print(a[-1], a[-2])\n",
    "end = time.time()\n",
    "print(end-start)"
   ]
  },
  {
   "source": [
    "2. N X M 행렬이 주어졌을때, 가장 높은 숫자를 찾아야한다.\n",
    "규칙은 행을 선택하고 선택한 행에서 가장 낮은 숫자를 선택한다.\n",
    "\n",
    "결국 모든 행에서 가장 작은 숫자들을 비교한 뒤 그 중 가장 큰 숫자를 고르면 된다."
   ],
   "cell_type": "markdown",
   "metadata": {}
  },
  {
   "cell_type": "code",
   "execution_count": 11,
   "metadata": {},
   "outputs": [
    {
     "output_type": "stream",
     "name": "stdout",
     "text": [
      "1\n"
     ]
    }
   ],
   "source": [
    "minlist = []\n",
    "n, m = map(int, input().split())\n",
    "for _ in range(0, n):\n",
    "    minlist.append(min(list(map(int, input().split()))))\n",
    "\n",
    "print(min(minlist))"
   ]
  },
  {
   "source": [
    "3. 임의의 자연수 N, K이 주어졌을때\n",
    "N이 1이 될때까지 다음의 두가지를 반복한다.\n",
    "첫번째, N에서 1을 뺀 것을 N으로 한다.\n",
    "두번째, N이 K로 나눠지면 K로 나눈것을 N으로 한다.\n",
    "\n",
    "N이 1이되는 최소 횟수를 구하라"
   ],
   "cell_type": "markdown",
   "metadata": {}
  },
  {
   "cell_type": "code",
   "execution_count": 22,
   "metadata": {},
   "outputs": [
    {
     "output_type": "stream",
     "name": "stdout",
     "text": [
      "3\n"
     ]
    }
   ],
   "source": [
    "n, k = map(int, input().split())\n",
    "\n",
    "num_div_k = 0\n",
    "while True:\n",
    "    if n == 1:\n",
    "        print(num_div_k)\n",
    "        break\n",
    "    elif n%k != 0:\n",
    "        num_div_k +=1\n",
    "        n = n - 1\n",
    "    elif n%k == 0:\n",
    "        num_div_k +=1\n",
    "        n = n/k\n",
    "\n"
   ]
  },
  {
   "source": [
    "상하좌우"
   ],
   "cell_type": "markdown",
   "metadata": {}
  },
  {
   "cell_type": "code",
   "execution_count": 7,
   "metadata": {},
   "outputs": [
    {
     "output_type": "stream",
     "name": "stdout",
     "text": [
      "4 \t 3\n"
     ]
    }
   ],
   "source": [
    "dim = int(input())\n",
    "act = input().split(\" \")\n",
    "now_x = 1\n",
    "now_y = 1\n",
    "\n",
    "for ac in act:\n",
    "    if ac == 'R':\n",
    "        if now_x + 1 <= dim :\n",
    "            now_x += 1\n",
    "    if ac == 'L':\n",
    "        if now_x - 1 < 0 :\n",
    "            now_x -= 1\n",
    "    if ac == 'U':\n",
    "        if now_y - 1 < 0 :\n",
    "            now_y -= 1\n",
    "    if ac == 'D':\n",
    "        if now_y + 1 <= dim :\n",
    "            now_y += 1\n",
    "print(now_x, \"\\t\", now_y)"
   ]
  },
  {
   "cell_type": "code",
   "execution_count": 1,
   "metadata": {},
   "outputs": [
    {
     "output_type": "execute_result",
     "data": {
      "text/plain": [
       "[-1, 1, 3, 10]"
      ]
     },
     "metadata": {},
     "execution_count": 1
    }
   ],
   "source": [
    "a = [1, 3 , 10 ,-1]\n",
    "sorted(a)"
   ]
  },
  {
   "cell_type": "code",
   "execution_count": null,
   "metadata": {},
   "outputs": [],
   "source": [
    "그리디 알고리즈 예제:\n",
    "\n",
    "다양한 예시의 경우를 빠르게 그려본 후 답을 찾자."
   ]
  },
  {
   "cell_type": "code",
   "execution_count": 4,
   "metadata": {},
   "outputs": [
    {
     "output_type": "stream",
     "name": "stdout",
     "text": [
      "2\n"
     ]
    }
   ],
   "source": [
    "n = int(input())\n",
    "\n",
    "g = list(map(int, input().split()))\n",
    "\n",
    "g.sort()\n",
    "\n",
    "a1 = 0\n",
    "idx = 1\n",
    "for i in g:\n",
    "    if i == 1:\n",
    "        a1+=1\n",
    "    else:\n",
    "        if idx == i:\n",
    "            a1+=1\n",
    "            idx = 0\n",
    "        else:\n",
    "            idx+=1\n",
    "\n",
    "\n",
    "print(a1)"
   ]
  },
  {
   "cell_type": "code",
   "execution_count": null,
   "metadata": {},
   "outputs": [],
   "source": [
    "그리디 알고리즘 예제2\n",
    "더하기 혹은 곱하기"
   ]
  },
  {
   "cell_type": "code",
   "execution_count": 10,
   "metadata": {},
   "outputs": [
    {
     "output_type": "stream",
     "name": "stdout",
     "text": [
      "1\n"
     ]
    }
   ],
   "source": [
    "a = input()\n",
    "b = []\n",
    "for i in a:\n",
    "    b.append(int(i))\n",
    "\n",
    "result = 1\n",
    "for i in b:\n",
    "    if i != 0:\n",
    "        if i == 1:\n",
    "            result+=1\n",
    "        else:\n",
    "            result*=i\n",
    "print(result)"
   ]
  },
  {
   "cell_type": "code",
   "execution_count": null,
   "metadata": {},
   "outputs": [],
   "source": [
    "그리디 알고리즘 예쩨 3\n",
    "문자열 뒤집기"
   ]
  },
  {
   "cell_type": "code",
   "execution_count": 25,
   "metadata": {},
   "outputs": [
    {
     "output_type": "stream",
     "name": "stdout",
     "text": [
      "3\n"
     ]
    }
   ],
   "source": [
    "s = input()\n",
    "c1 = 0\n",
    "c0 = 0\n",
    "\n",
    "for i in range(len(s[:-1])):\n",
    "    if s[i] == s[i+1]:\n",
    "        pass\n",
    "    else:\n",
    "        if int(s[i]) == 1:\n",
    "            c1+=1\n",
    "        else:\n",
    "            c0+=1\n",
    "\n",
    "if s[-2] == s[-1]:\n",
    "    pass\n",
    "else:\n",
    "    if int(s[-1]) == 1:\n",
    "        c1+=1\n",
    "    else:\n",
    "        c0+=1\n",
    "\n",
    "if c1==0 or c0==0:\n",
    "    print(0)\n",
    "elif c1==1 or c0==1:\n",
    "    print(1)\n",
    "else:\n",
    "    print(min(c1, c0))\n"
   ]
  },
  {
   "source": [
    "만들 수 없는 최소 정수"
   ],
   "cell_type": "markdown",
   "metadata": {}
  },
  {
   "cell_type": "code",
   "execution_count": null,
   "metadata": {},
   "outputs": [],
   "source": [
    "coin = list(map(int, input().split()))\n",
    "\n",
    "coin.sort()\n",
    "\n",
    "target = 1\n",
    "for c in coin:\n",
    "    if target < c:\n",
    "        break\n",
    "    target += c\n",
    "\n",
    "print(target)"
   ]
  },
  {
   "source": [
    "서로 다른 숫자 조합 찾기\n"
   ],
   "cell_type": "markdown",
   "metadata": {}
  },
  {
   "cell_type": "code",
   "execution_count": 28,
   "metadata": {},
   "outputs": [
    {
     "output_type": "stream",
     "name": "stdout",
     "text": [
      "25\n"
     ]
    }
   ],
   "source": [
    "n, m = map(int, input().split())\n",
    "\n",
    "bl = list(map(int, input().split()))\n",
    "\n",
    "bl.sort()\n",
    "count = 0\n",
    "for i in range(0, len(bl)-1):\n",
    "    pivot = bl[i]\n",
    "    for j in bl[i+1:]:\n",
    "        if j == pivot:\n",
    "            pass\n",
    "        else:\n",
    "            count+=1 \n",
    "\n",
    "print(count)"
   ]
  },
  {
   "cell_type": "code",
   "execution_count": null,
   "metadata": {},
   "outputs": [],
   "source": [
    "무지의 먹방라이브 \n",
    "https://programmers.co.kr/learn/courses/30/lessons/42891"
   ]
  },
  {
   "cell_type": "code",
   "execution_count": 32,
   "metadata": {},
   "outputs": [
    {
     "output_type": "stream",
     "name": "stdout",
     "text": [
      "2\n"
     ]
    }
   ],
   "source": [
    "food_times = list(map(int, input().split()))\n",
    "\n",
    "k = int(input())\n",
    "\n",
    "if sum(food_times) <= k:\n",
    "    print(-1)\n",
    "else:\n",
    "    q = []\n",
    "    for i in range(len(food_times)):\n",
    "        heapq.heappush(q, (food_times[i], i+1))\n",
    "\n",
    "    sum_val = 0\n",
    "    prev = 0\n",
    "    length = len(food_times)\n",
    "    while sum_val+(q[0][0] - prev)*length <= k:\n",
    "        tmp = heapq.heappop(q)[0]\n",
    "        sum_val+= length*(tmp - prev)\n",
    "        length -= 1\n",
    "        prev = tmp\n",
    "    result = sorted(q, key=lamda x: x[1])\n",
    "    print(result[ (k-sum_val)%length ][1])"
   ]
  },
  {
   "source": [
    "구현 문제"
   ],
   "cell_type": "markdown",
   "metadata": {}
  },
  {
   "cell_type": "code",
   "execution_count": 40,
   "metadata": {},
   "outputs": [
    {
     "output_type": "stream",
     "name": "stdout",
     "text": [
      "3.0\nREADY\n"
     ]
    }
   ],
   "source": [
    "a = str(input())\n",
    "mid = len(a)/2\n",
    "a1 = a[:int(mid)]\n",
    "a2 = a[int(mid):]\n",
    "if sum([int(i) for i in a1]) == sum([int(i) for i in a2]):\n",
    "    print(\"LUCKY\")\n",
    "else:\n",
    "    print(\"READY\")"
   ]
  },
  {
   "source": [
    "문자열 정렬 문제"
   ],
   "cell_type": "markdown",
   "metadata": {}
  },
  {
   "cell_type": "code",
   "execution_count": 46,
   "metadata": {},
   "outputs": [
    {
     "output_type": "stream",
     "name": "stdout",
     "text": [
      "0\n"
     ]
    }
   ],
   "source": [
    "a = str(input())\n",
    "key_list = [str(i) for i in range(1, 10)]\n",
    "sum_val = 0\n",
    "answer = []\n",
    "for i in a:\n",
    "    if i in key_list:\n",
    "        sum_val+=int(i)\n",
    "    else:\n",
    "        answer.append(i)\n",
    "\n",
    "answer.sort()\n",
    "print(\"\".join(answer) + str(sum_val))"
   ]
  },
  {
   "source": [
    "문자열 압축 문제\n",
    "\n",
    "ref: https://programmers.co.kr/learn/courses/30/lessons/60057"
   ],
   "cell_type": "markdown",
   "metadata": {}
  },
  {
   "cell_type": "code",
   "execution_count": 62,
   "metadata": {},
   "outputs": [
    {
     "output_type": "stream",
     "name": "stdout",
     "text": [
      "abcabcdede\nabcabc2de\n2abcdede\nabcabcdede\nabcabcdede\nabcabcdede\nabcabcdede\nabcabcdede\nabcabcdede\n글자 묶음: 3, 총 글자수:8\n"
     ]
    }
   ],
   "source": [
    "s = input()\n",
    "min_leng = len(s)\n",
    "for i in range(1, len(s)):\n",
    "    tmp = \"\"\n",
    "    cnt = 1\n",
    "    for j in range(0, len(s)//i):\n",
    "        if s[j*i:(j+1)*i] == s[(j+1)*i: (j+2)*i]:\n",
    "            cnt+=1\n",
    "            if cnt == (len(s)//i):\n",
    "                tmp+= str(cnt)+s[j*i:(j+1)*i]\n",
    "                break\n",
    "        else:\n",
    "            if cnt == 1:\n",
    "                tmp+= s[j*i:(j+1)*i]\n",
    "            elif cnt > 1:\n",
    "                tmp+= (str(cnt)+s[j*i:(j+1)*i])\n",
    "            cnt = 1\n",
    "    if len(s)%i != 0:\n",
    "        tmp += s[-1*(len(s)%i):]\n",
    "    print(tmp)\n",
    "    if len(tmp) < min_leng:\n",
    "        min_leng = len(tmp)\n",
    "        min_val = i\n",
    "\n",
    "print(f\"글자 묶음: {min_val}, 총 글자수:{min_leng}\")"
   ]
  },
  {
   "cell_type": "code",
   "execution_count": null,
   "metadata": {},
   "outputs": [],
   "source": [
    "좌물쇠와 열쇠\n",
    "\n",
    "https://programmers.co.kr/learn/courses/30/lessons/60059"
   ]
  },
  {
   "cell_type": "code",
   "execution_count": 93,
   "metadata": {},
   "outputs": [
    {
     "output_type": "execute_result",
     "data": {
      "text/plain": [
       "True"
      ]
     },
     "metadata": {},
     "execution_count": 93
    }
   ],
   "source": [
    "import numpy as np\n",
    "\n",
    "lock = [[1, 1, 1], [1, 1, 0], [1, 0, 1]]\n",
    "key = [[0, 0, 0], [1 ,0, 0], [0, 1, 1]]\n",
    "\n",
    "def rotate(key):\n",
    "    new_key = np.rot90(key)\n",
    "    return new_key\n",
    "\n",
    "def check_suc(lock, n, m):\n",
    "    answer = True\n",
    "    for i in range(n, n+m):\n",
    "        for j in range(n, n+m):\n",
    "            if lock[i][j] != 1:\n",
    "                return False\n",
    "    return answer\n",
    "\n",
    "\n",
    "def solution(key, lock):\n",
    "    key = np.array(key)\n",
    "    lock = np.array(lock)\n",
    "    n = len(key)\n",
    "    m = len(lock)\n",
    "    lock = np.pad(lock, ((n,n), (n,n)), constant_values=0)\n",
    "    for rot in range(4):\n",
    "        for i in range(len(lock)-n):\n",
    "            for j in range(len(lock)-n):\n",
    "                test = lock.copy()\n",
    "                test[i:i+n,j:j+n] += key\n",
    "                if check_suc(test, n, m) == False:\n",
    "                    pass\n",
    "                else :\n",
    "                    return True\n",
    "        key = rotate(key)\n",
    "    \n",
    "    return False\n",
    "\n",
    "solution(key, lock)"
   ]
  },
  {
   "source": [
    "구현 문제"
   ],
   "cell_type": "markdown",
   "metadata": {}
  },
  {
   "cell_type": "code",
   "execution_count": 139,
   "metadata": {},
   "outputs": [
    {
     "output_type": "stream",
     "name": "stdout",
     "text": [
      "10 행 10 열\n",
      "4 사과\n",
      "[[0, 1, 0, 0, 0, 0, 0, 0, 0, 0], [0, 0, 0, 0, 0, 0, 0, 0, 0, 0], [0, 0, 0, 0, 0, 0, 0, 0, 0, 0], [0, 0, 0, 0, 0, 0, 0, 0, 0, 0], [0, 0, 0, 0, 0, 0, 0, 0, 0, 0], [0, 0, 0, 0, 0, 0, 0, 0, 0, 0], [0, 0, 0, 0, 0, 0, 0, 0, 0, 0], [0, 0, 0, 0, 0, 0, 0, 0, 0, 0], [0, 0, 0, 0, 0, 0, 0, 0, 0, 0], [0, 0, 0, 0, 0, 0, 0, 0, 0, 0]]\n",
      "[[0, 1, 1, 0, 0, 0, 0, 0, 0, 0], [0, 0, 0, 0, 0, 0, 0, 0, 0, 0], [0, 0, 0, 0, 0, 0, 0, 0, 0, 0], [0, 0, 0, 0, 0, 0, 0, 0, 0, 0], [0, 0, 0, 0, 0, 0, 0, 0, 0, 0], [0, 0, 0, 0, 0, 0, 0, 0, 0, 0], [0, 0, 0, 0, 0, 0, 0, 0, 0, 0], [0, 0, 0, 0, 0, 0, 0, 0, 0, 0], [0, 0, 0, 0, 0, 0, 0, 0, 0, 0], [0, 0, 0, 0, 0, 0, 0, 0, 0, 0]]\n",
      "[[0, 1, 1, 1, 0, 0, 0, 0, 0, 0], [0, 0, 0, 0, 0, 0, 0, 0, 0, 0], [0, 0, 0, 0, 0, 0, 0, 0, 0, 0], [0, 0, 0, 0, 0, 0, 0, 0, 0, 0], [0, 0, 0, 0, 0, 0, 0, 0, 0, 0], [0, 0, 0, 0, 0, 0, 0, 0, 0, 0], [0, 0, 0, 0, 0, 0, 0, 0, 0, 0], [0, 0, 0, 0, 0, 0, 0, 0, 0, 0], [0, 0, 0, 0, 0, 0, 0, 0, 0, 0], [0, 0, 0, 0, 0, 0, 0, 0, 0, 0]]\n",
      "[[0, 1, 1, 1, 1, 0, 0, 0, 0, 0], [0, 0, 0, 0, 0, 0, 0, 0, 0, 0], [0, 0, 0, 0, 0, 0, 0, 0, 0, 0], [0, 0, 0, 0, 0, 0, 0, 0, 0, 0], [0, 0, 0, 0, 0, 0, 0, 0, 0, 0], [0, 0, 0, 0, 0, 0, 0, 0, 0, 0], [0, 0, 0, 0, 0, 0, 0, 0, 0, 0], [0, 0, 0, 0, 0, 0, 0, 0, 0, 0], [0, 0, 0, 0, 0, 0, 0, 0, 0, 0], [0, 0, 0, 0, 0, 0, 0, 0, 0, 0]]\n",
      "[[0, 1, 1, 1, 1, 0, 0, 0, 0, 0], [0, 0, 0, 0, 0, 0, 0, 0, 0, 0], [0, 0, 0, 0, 0, 0, 0, 0, 0, 0], [0, 0, 0, 0, 0, 0, 0, 0, 0, 0], [0, 0, 0, 0, 0, 0, 0, 0, 0, 0], [0, 0, 0, 0, 0, 0, 0, 0, 0, 0], [0, 0, 0, 0, 0, 0, 0, 0, 0, 0], [0, 0, 0, 0, 0, 0, 0, 0, 0, 0], [0, 0, 0, 0, 0, 0, 0, 0, 0, 0], [0, 0, 0, 0, 0, 0, 0, 0, 0, 0]]\n",
      "4 개의 방향 전환\n",
      "[0, 1]\n",
      "[0, 1]\n",
      "body,  [[0, 0]]\n",
      "[0, 1]\n",
      "[0, 2]\n",
      "body,  [[0, 0], [0, 1]]\n",
      "[0, 1]\n",
      "[0, 3]\n",
      "body,  [[0, 0], [0, 1], [0, 2]]\n",
      "[0, 1]\n",
      "[0, 4]\n",
      "body,  [[0, 0], [0, 1], [0, 2], [0, 3]]\n",
      "[0, 1]\n",
      "[0, 5]\n",
      "body,  [[0, 0], [0, 1], [0, 2], [0, 3], [0, 4]]\n",
      "[0, 1]\n",
      "[0, 6]\n",
      "body,  [[0, 1], [0, 2], [0, 3], [0, 4], [0, 5]]\n",
      "[0, 1]\n",
      "[0, 7]\n",
      "body,  [[0, 2], [0, 3], [0, 4], [0, 5], [0, 6]]\n",
      "[0, 1]\n",
      "[0, 8]\n",
      "body,  [[0, 3], [0, 4], [0, 5], [0, 6], [0, 7]]\n",
      "[1, 0]\n",
      "[1, 8]\n",
      "body,  [[0, 4], [0, 5], [0, 6], [0, 7], [0, 8]]\n",
      "[1, 0]\n",
      "[2, 8]\n",
      "body,  [[0, 5], [0, 6], [0, 7], [0, 8], [1, 8]]\n",
      "[0, -1]\n",
      "[2, 7]\n",
      "body,  [[0, 6], [0, 7], [0, 8], [1, 8], [2, 8]]\n",
      "[-1, 0]\n",
      "[1, 7]\n",
      "body,  [[0, 7], [0, 8], [1, 8], [2, 8], [2, 7]]\n",
      "[-1, 0]\n",
      "[0, 7]\n",
      "body,  [[0, 8], [1, 8], [2, 8], [2, 7], [1, 7]]\n",
      "벽 밖으로 나가거나 꼬리에 닿게 되어 아웃\n",
      "21\n"
     ]
    }
   ],
   "source": [
    "n = int(input())\n",
    "print(f\"{n} 행 {n} 열\")\n",
    "apples = int(input())\n",
    "print(f\"{apples} 사과\")\n",
    "\n",
    "n_map = [[0]*n for _ in range(n)]\n",
    "for _ in range(apples):\n",
    "    x, y = map(int,input().split())\n",
    "    n_map[x-1][y-1] += 1\n",
    "    print(n_map)\n",
    "print(n_map)\n",
    "directions = int(input())\n",
    "print(f\"{directions} 개의 방향 전환\")\n",
    "body = [[0]*n]*n\n",
    "body[0][0] += 1\n",
    "now=0\n",
    "tmp = [0, 0]\n",
    "body = [[0, 0]]\n",
    "\n",
    "dm = [0, 1]\n",
    "end = False\n",
    "for i in range(directions):\n",
    "    t, d = map(str, input().split())\n",
    "    \n",
    "    while True:\n",
    "        if now >= int(t):\n",
    "            break\n",
    "        print(dm)\n",
    "        tmp[0] += dm[0]\n",
    "        tmp[1] += dm[1]\n",
    "        print(tmp)\n",
    "        print(\"body, \", body)\n",
    "        if (tmp[0] < n) and (tmp[0] >= 0) and (tmp[1] < n) and (tmp[1] >= 0) and (tmp not in body):\n",
    "            body.append(tmp.copy())\n",
    "            if n_map[tmp[0]][tmp[1]] != 1 :\n",
    "                body = body[1:]\n",
    "            now+=1\n",
    "        # 벽 밖으로 나가거나 꼬리에 닿게 되어 아웃\n",
    "        else :\n",
    "            end = True\n",
    "            now+=1\n",
    "            print(\"벽 밖으로 나가거나 꼬리에 닿게 되어 아웃\")\n",
    "            break\n",
    "    \n",
    "    if dm == [0, 1] and d == 'L':\n",
    "        dm = [-1, 0]\n",
    "    elif dm == [0, 1] and d == 'D':\n",
    "        dm = [1, 0] \n",
    "    elif dm == [0, -1] and d == 'L':\n",
    "        dm = [1, 0]\n",
    "    elif dm == [0, -1] and d == 'D':\n",
    "        dm = [-1, 0]\n",
    "    elif dm == [1, 0] and d == 'L':\n",
    "        dm = [0, 1]\n",
    "    elif dm == [1, 0] and d == 'D':\n",
    "        dm = [0, -1] \n",
    "    elif dm == [-1, 0] and d == 'L':\n",
    "        dm = [0, -1]\n",
    "    elif dm == [-1, 0] and d == 'D':\n",
    "        dm = [0, 1] \n",
    "    \n",
    "    if end== True:\n",
    "        break\n",
    "    \n",
    "\n",
    "    while i == (directions-1):\n",
    "        tmp[0] += dm[0]\n",
    "        tmp[1] += dm[1]\n",
    "        if (tmp[0] < n) and (tmp[0] >= 0) and (tmp[1] < n) and (tmp[1] >= 0) and (tmp not in body):\n",
    "            body.append(tmp.copy())\n",
    "            if n_map[tmp[0]][tmp[1]] != 1 :\n",
    "                body = body[1:]\n",
    "            now+=1\n",
    "        # 벽 밖으로 나가거나 꼬리에 닿게 되어 아웃\n",
    "        else :\n",
    "            now+=1\n",
    "            print(\"벽 밖으로 나가거나 꼬리에 닿게 되어 아웃\")\n",
    "            break\n",
    "\n",
    "print(now)"
   ]
  },
  {
   "source": [
    "기둥과 보 설치"
   ],
   "cell_type": "markdown",
   "metadata": {}
  },
  {
   "cell_type": "code",
   "execution_count": null,
   "metadata": {},
   "outputs": [],
   "source": [
    "\n",
    "def isFeasible(ans):\n",
    "    feasible = [False]*len(ans)\n",
    "    for i in range(ans):\n",
    "        # 기둥\n",
    "        if ans[i][2] == 0:\n",
    "            # 바닥 : y 좌표 == 0\n",
    "            if ans[i][1] == 0:\n",
    "                feasible[i] = True\n",
    "            # 바닥이 아니면\n",
    "            else :\n",
    "                for plan in ans:\n",
    "                    if (ans[i][0] == plan[0] and (ans[i][1] == plan[1]+1) and plan[2] == 0) or\n",
    "                        (ans[i][0] == plan[0]+1 and ans[i][1] == plan[1] and plan[2] == 1):\n",
    "                        feasible[i] = True\n",
    "                        break\n",
    "        # 보\n",
    "        else :\n",
    "            for plan in ans:\n",
    "                # 기둥 위에 있거나\n",
    "                if (ans[i][0] == plan[0] and ans[i][1]-1 == plan[1] and plan[2] == 0) or\n",
    "                    (ans[i][0] == plan[0]+1 and ans[i][1]-1 == plan[1] and plan[2] == 0) or\n",
    "                    feasible[i] = True\n",
    "                    break\n",
    "                else:\n",
    "                    # 양옆에 다른 보가 있거나\n",
    "                    for plan2 in ans:\n",
    "                        if (ans[i][0]-1 == plan[0] and ans[i][1] == plan[1] and plan[2] == 1 and\n",
    "                            ans[i][0]+1 == plan2[0] and ans[i][1] == plan2[1] and plan2[2] == 1 ) or\n",
    "                            (ans[i][0]-1 == plan2[0] and ans[i][1] == plan2[1] and plan2[2] == 1 and\n",
    "                            ans[i][0]+1 == plan[0] and ans[i][1] == plan[1] and plan[2] == 1 ):\n",
    "                            feasible[i] = True\n",
    "                            break\n",
    "    if sum(feasible) == len(ans):\n",
    "        return True\n",
    "    else:\n",
    "        return False\n",
    "\n",
    "\n",
    "def solution(bf):\n",
    "    answer = []\n",
    "    for item in bf:\n",
    "        # 설치를 시도\n",
    "        if item[3] == 1:\n",
    "            test = answer.copy()\n",
    "            test.append([item[0], item[1], item[2]])\n",
    "            if isFeasible(test) == True:\n",
    "                ans = [item[0], item[1], item[2]]\n",
    "                answer.append(ans)\n",
    "        # 해체를 시도\n",
    "        else:\n",
    "            test = answer.copy()\n",
    "            test.remove([item[0], item[1], item[2]])\n",
    "            if isFeasible(test) == True:\n",
    "                ans = [item[0], item[1], item[2]]                                         \n",
    "                answer.remove(ans)\n",
    "\n",
    "    \n",
    "\n",
    "    return sorted(answer)"
   ]
  },
  {
   "source": [
    "최적 도시 계획"
   ],
   "cell_type": "markdown",
   "metadata": {}
  },
  {
   "cell_type": "code",
   "execution_count": 5,
   "metadata": {},
   "outputs": [
    {
     "output_type": "stream",
     "name": "stdout",
     "text": [
      "11\n"
     ]
    }
   ],
   "source": [
    "\n",
    "import itertools\n",
    "# n,m = map(int, input().split())\n",
    "\n",
    "# map = [list(map(int, input().split())) for _ in range(n)]\n",
    "\n",
    "n = 5\n",
    "m = 1\n",
    "n_map = [[1, 2, 0, 0, 0],\n",
    "       [1, 2, 0, 0, 0],\n",
    "       [1, 2, 0, 0 ,0],\n",
    "       [1, 2, 0, 0, 0],\n",
    "       [1, 2, 0, 0, 0]]\n",
    "\n",
    "def count_chk(map):\n",
    "    count = 0\n",
    "    for i in range(n):\n",
    "        for j in range(n):\n",
    "            if n_map[i][j] == 2:\n",
    "                count+=1\n",
    "    return count\n",
    "\n",
    "def find_chk(map):\n",
    "    map_chk = []\n",
    "    map_hom = []\n",
    "    for i in range(n):\n",
    "        for j in range(n):\n",
    "            if map[i][j] == 2:\n",
    "                map_chk.append([i,j])\n",
    "            elif map[i][j] == 1:\n",
    "                map_hom.append([i,j])\n",
    "            else:\n",
    "                pass\n",
    "    return (map_chk, map_hom) \n",
    "\n",
    "def cal_chk_dist(map):\n",
    "    map_chk, map_hom = find_chk(map)\n",
    "    dist_total = 0\n",
    "    for home in map_hom:\n",
    "        min_dist = 10000000\n",
    "        for chk in map_chk:\n",
    "            min_dist = min(abs(home[1]-chk[1])+abs(home[0]-chk[0]), min_dist)\n",
    "        dist_total += min_dist\n",
    "    return dist_total\n",
    "\n",
    "def ppopkki(ch_list, k):\n",
    "    # k 개의 조합을 출력\n",
    "    return list(itertools.combinations(ch_list,k))\n",
    "\n",
    "M = count_chk(n_map)\n",
    "map_chk, _ = find_chk(n_map)\n",
    "\n",
    "if M <= m:\n",
    "    print(cal_chk_dist(n_map))\n",
    "else :\n",
    "    combs = ppopkki(map_chk, M-m)\n",
    "\n",
    "    min_dist = 1000000\n",
    "    for item in combs:\n",
    "        test = n_map.copy()\n",
    "        for ck in item:\n",
    "            test[ck[0]][ck[1]] = 0\n",
    "        dist = cal_chk_dist(test)\n",
    "        if dist < min_dist:\n",
    "            min_dist = dist\n",
    "            tmp = item\n",
    "        for ck in item:\n",
    "            test[ck[0]][ck[1]] = 2\n",
    "\n",
    "    for ck in tmp:\n",
    "        n_map[ck[0]][ck[1]] = 0\n",
    "\n",
    "\n",
    "print(cal_chk_dist(n_map))"
   ]
  },
  {
   "cell_type": "code",
   "execution_count": 25,
   "metadata": {},
   "outputs": [
    {
     "output_type": "execute_result",
     "data": {
      "text/plain": [
       "[([0, 1], [1, 1], [2, 1], [3, 1]),\n",
       " ([0, 1], [1, 1], [2, 1], [4, 1]),\n",
       " ([0, 1], [1, 1], [3, 1], [4, 1]),\n",
       " ([0, 1], [2, 1], [3, 1], [4, 1]),\n",
       " ([1, 1], [2, 1], [3, 1], [4, 1])]"
      ]
     },
     "metadata": {},
     "execution_count": 25
    }
   ],
   "source": [
    "combs"
   ]
  },
  {
   "source": [
    "외벽점검 \n",
    "카카오 2020 공채\n"
   ],
   "cell_type": "markdown",
   "metadata": {}
  },
  {
   "cell_type": "code",
   "execution_count": 56,
   "metadata": {},
   "outputs": [
    {
     "output_type": "stream",
     "name": "stdout",
     "text": [
      "[0, 1, 0, 0, 0, 1, 1, 0, 0, 0, 1, 0]\n[0, 1, 0, 0, 0]\n[1, 0, 0, 0, 1]\n[0, 0, 0, 1, 1]\n[0, 0, 1, 1, 0]\n[0, 1, 1, 0, 0]\n[1, 1, 0, 0, 0]\n[1, 0, 0, 0, 1]\n[0, 0, 0, 1, 0]\n[0, 0, 1, 0, 1]\n[0, 1, 0, 1, 0]\n[1, 0, 1, 0, 0]\n[0, 1, 0, 0, 0]\n10\n4\n[0, 0, 0, 0, 0, 1, 1, 0, 0, 0, 0, 0]\n[0, 0, 0, 0]\n[0, 0, 0, 0]\n[0, 0, 0, 1]\n[0, 0, 1, 1]\n[0, 1, 1, 0]\n[1, 1, 0, 0]\n[1, 0, 0, 0]\n[0, 0, 0, 0]\n[0, 0, 0, 0]\n[0, 0, 0, 0]\n[0, 0, 0, 0]\n[0, 0, 0, 0]\n5\n3\n[0, 0, 0, 0, 0, 0, 0, 0, 0, 0, 0, 0]\n2\n"
     ]
    }
   ],
   "source": [
    "n = 12\n",
    "weak = [1, 5,6, 10]\n",
    "dist = [1, 2, 3, 4]\n",
    "\n",
    "dist.sort(reverse=True)\n",
    "\n",
    "wall = n*[0]\n",
    "chk = n*[0]\n",
    "frd = []\n",
    "for w in weak:\n",
    "    wall[w] = 1\n",
    "\n",
    "print(wall)\n",
    "for d in dist:\n",
    "    frd.append(d)\n",
    "    max_idx = 0\n",
    "    max_val = 0\n",
    "    for i in range(n):\n",
    "        if i+d >= n:\n",
    "            tmp = wall[i:n-1]+wall[0:i+d+2-(n)]\n",
    "            if max_val <= sum(tmp):\n",
    "                max_val = sum(tmp)\n",
    "                max_idx = i\n",
    "        else:\n",
    "            tmp = wall[i:i+d+1]\n",
    "            if max_val <= sum(tmp):\n",
    "                max_val = sum(tmp)\n",
    "                max_idx = i\n",
    "    if max_idx+d+1 >= n:\n",
    "        wall[max_idx:n-1] = [0]*(n-1-max_idx)\n",
    "        wall[0:max_idx+d-(n)+1] = [0]*(max_idx+d-n+1)\n",
    "    else:\n",
    "        wall[max_idx:max_idx+d+1] = [0]*(d+1)\n",
    "    \n",
    "    if sum(wall) == 0:\n",
    "        break\n",
    "\n",
    "if sum(wall) >= 1:\n",
    "    print(-1)\n",
    "else:\n",
    "    print(len(frd))"
   ]
  },
  {
   "cell_type": "code",
   "execution_count": 2,
   "metadata": {},
   "outputs": [
    {
     "output_type": "stream",
     "name": "stdout",
     "text": [
      "2\n"
     ]
    }
   ],
   "source": [
    "gift_list = [4, 5, 5, 4, 1] \n",
    "wants = [1, 4, 5, 3, 2]\n",
    "\n",
    "for i in wants:\n",
    "    if i in gift_list:\n",
    "        gift_list.remove(i)\n",
    "\n",
    "print(len(gift_list))"
   ]
  },
  {
   "cell_type": "code",
   "execution_count": 22,
   "metadata": {},
   "outputs": [
    {
     "output_type": "stream",
     "name": "stdout",
     "text": [
      "[[0, 0, 0], [0, 0, 0], [0, 0, 0], [0, 0, 1], [0, 0, 0], [0, 0, 1]]\n[[0, 0, 0], [0, 1, 0], [0, 1, 0], [0, 0, 0], [0, 1, 0], [0, 1, 0]]\n[[1, 0, 0], [1, 0, 0], [1, 0, 0], [1, 0, 0], [1, 0, 0], [0, 0, 0]]\n4\n"
     ]
    }
   ],
   "source": [
    "from itertools import combinations\n",
    "import copy \n",
    "\n",
    "needs = [ [ 1, 0, 0 ], [1, 1, 0], [1, 1, 0], [1, 0, 1], [1, 1, 0], [0, 1, 1] ]\t\n",
    "r = 2\n",
    "\n",
    "dis = [i for i in range(0, len(needs[0]))]\n",
    "\n",
    "max_cnt = 0\n",
    "\n",
    "def count_part(needs, robot):\n",
    "    cnt =0\n",
    "    for i in robot:\n",
    "        for item in needs:\n",
    "            item[i] = 0\n",
    "    print(needs)\n",
    "    for item in needs:\n",
    "        if sum(item) == 0:\n",
    "            cnt+=1\n",
    "    return cnt             \n",
    "\n",
    "for cmb in combinations(dis, r):\n",
    "    tmp = copy.deepcopy(needs)\n",
    "    max_cnt = max(max_cnt,count_part(tmp, cmb))\n",
    "\n",
    "print(max_cnt)"
   ]
  },
  {
   "cell_type": "code",
   "execution_count": 32,
   "metadata": {},
   "outputs": [],
   "source": [
    "from collections import deque\n",
    "\n",
    "train = [[1,2],[1,3],[1,4],[3,5],[3,6]]\n",
    "\n",
    "\n",
    "graph = [[] for _ in range(6+1)]\n",
    "for i in train:\n",
    "    graph[i[0]].append(i[1])\n",
    "    graph[i[1]].append(i[0])\n",
    "\n",
    "passensers = [0]+[1,1,1,1,1,1]\n",
    "\n",
    "visited = [False]*len(passensers)\n",
    "path = []\n",
    "def sol(graph, visited, start, dist):\n",
    "    visited[start] = True\n",
    "    dist += passensers[start]\n",
    "    all_vis = True\n",
    "    for i in graph[start]:\n",
    "        if visited[i] == True:\n",
    "            pass\n",
    "        else:\n",
    "            sol(graph, visited, i, dist)\n",
    "            all_vis = False\n",
    "    if all_vis == True:\n",
    "        path.append([start, dist])\n",
    "        visited = [False]*len(passensers)\n",
    "\n",
    "sol(graph, visited, 1, 0)"
   ]
  },
  {
   "cell_type": "code",
   "execution_count": 33,
   "metadata": {},
   "outputs": [
    {
     "output_type": "execute_result",
     "data": {
      "text/plain": [
       "[[2, 2], [5, 3], [6, 3], [4, 2]]"
      ]
     },
     "metadata": {},
     "execution_count": 33
    }
   ],
   "source": [
    "path"
   ]
  }
 ]
}
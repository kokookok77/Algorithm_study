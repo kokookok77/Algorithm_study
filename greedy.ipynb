{
 "metadata": {
  "language_info": {
   "codemirror_mode": {
    "name": "ipython",
    "version": 3
   },
   "file_extension": ".py",
   "mimetype": "text/x-python",
   "name": "python",
   "nbconvert_exporter": "python",
   "pygments_lexer": "ipython3",
   "version": "3.8.5-final"
  },
  "orig_nbformat": 2,
  "kernelspec": {
   "name": "python3",
   "display_name": "Python 3"
  }
 },
 "nbformat": 4,
 "nbformat_minor": 2,
 "cells": [
  {
   "source": [
    "{GREEDY Agorithm Example}"
   ],
   "cell_type": "markdown",
   "metadata": {}
  },
  {
   "source": [
    "1. 큰 수의 법칙\n",
    "다양한 수로 이뤄진 배열이 있을때 주어진 수들을 연속해서 M번 더하여 가장 큰 수를 찾는 문제\n",
    "단, 같은 숫자를 k번 초과하여 더할 수 없다. 또힌, 배열의 인덱스가 다르면 값이 같은 숫자라고 하더라도 다른 숫자로 간주한다.\n",
    "\n",
    "1-1. 문제 입력 예시\n",
    "N, M, K = 10, 5, 2\n",
    "List = [2, 4, 5, 5, 2, 1, 6, 7, 1, 2] \n",
    "주어지는 k는 항상 M보다 작거나 같다."
   ],
   "cell_type": "markdown",
   "metadata": {}
  },
  {
   "cell_type": "code",
   "execution_count": null,
   "metadata": {},
   "outputs": [],
   "source": [
    "import random\n",
    "\n",
    "\n",
    "N = 10\n",
    "M = 5\n",
    "k = 2\n",
    "List = [ random.randint(10) for i in range(10)]\n",
    "\n",
    "max_sum = 0\n",
    "max_val = max(List)\n",
    "\n",
    "for i in range(M):\n",
    "\n"
   ]
  },
  {
   "cell_type": "code",
   "execution_count": 32,
   "metadata": {},
   "outputs": [
    {
     "output_type": "stream",
     "name": "stdout",
     "text": [
      "[2, 5, 5, 3, 9, 6, 2, 5, 3, 4]\n9 6\n0.0039899349212646484\n"
     ]
    }
   ],
   "source": [
    "import time\n",
    "import random\n",
    "\n",
    "start = time.time()\n",
    "a =[ random.randint(1, 10) for i in range(10)]\n",
    "print(a)\n",
    "a.sort()\n",
    "print(a[-1], a[-2])\n",
    "end = time.time()\n",
    "print(end-start)"
   ]
  },
  {
   "cell_type": "code",
   "execution_count": 3,
   "metadata": {},
   "outputs": [
    {
     "output_type": "execute_result",
     "data": {
      "text/plain": [
       "[1, 2, 3, 5]"
      ]
     },
     "metadata": {},
     "execution_count": 3
    }
   ],
   "source": []
  }
 ]
}
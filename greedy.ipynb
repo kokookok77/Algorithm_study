{
 "metadata": {
  "language_info": {
   "codemirror_mode": {
    "name": "ipython",
    "version": 3
   },
   "file_extension": ".py",
   "mimetype": "text/x-python",
   "name": "python",
   "nbconvert_exporter": "python",
   "pygments_lexer": "ipython3",
   "version": "3.8.6-final"
  },
  "orig_nbformat": 2,
  "kernelspec": {
   "name": "python3",
   "display_name": "Python 3"
  }
 },
 "nbformat": 4,
 "nbformat_minor": 2,
 "cells": [
  {
   "source": [
    "{GREEDY Agorithm Example}"
   ],
   "cell_type": "markdown",
   "metadata": {}
  },
  {
   "source": [
    "1. 큰 수의 법칙\n",
    "다양한 수로 이뤄진 배열이 있을때 주어진 수들을 연속해서 M번 더하여 가장 큰 수를 찾는 문제\n",
    "단, 같은 숫자를 k번 초과하여 더할 수 없다. 또힌, 배열의 인덱스가 다르면 값이 같은 숫자라고 하더라도 다른 숫자로 간주한다.\n",
    "\n",
    "1-1. 문제 입력 예시\n",
    "N, M, K = 10, 5, 2\n",
    "List = [2, 4, 5, 5, 2, 1, 6, 7, 1, 2] \n",
    "주어지는 k는 항상 M보다 작거나 같다.\n",
    "\n",
    "Idea : 결국 가장 큰 두개의 숫자만으로 번갈아가면서 더해주면 가장 큰 수를 만들 수 있다.\n",
    "\n",
    "답안 예시1. "
   ],
   "cell_type": "markdown",
   "metadata": {}
  },
  {
   "cell_type": "code",
   "execution_count": 47,
   "metadata": {},
   "outputs": [
    {
     "output_type": "stream",
     "name": "stdout",
     "text": [
      "10\n20\n29\n39\n49\n[10, 9, 8, 8, 2, 2, 2, 1, 1, 0]\n49\n"
     ]
    }
   ],
   "source": [
    "import random\n",
    "\n",
    "\n",
    "N = 10\n",
    "M = 5\n",
    "k = 2\n",
    "List = [ random.randint(0, N) for i in range(10)]\n",
    "\n",
    "List.sort(reverse=True)\n",
    "max_val = List[0]\n",
    "sencond_max_val = List[1]\n",
    "\n",
    "max_sum = 0\n",
    "\n",
    "cont = 0\n",
    "for i in range(M):\n",
    "    if cont == k:\n",
    "        max_sum += sencond_max_val\n",
    "        cont = 0\n",
    "        print(max_sum)\n",
    "    else:\n",
    "        cont += 1\n",
    "        max_sum += max_val\n",
    "        print(max_sum)\n",
    "print(List)\n",
    "print(max_sum)\n",
    "\n"
   ]
  },
  {
   "source": [
    "위의 답안은 반복문으로 사용하여 N, M 이 커질때 시간복잡도가 그만큼 증가한다.\n",
    "조금 더 영리한 방법\n",
    "답안 예시 2"
   ],
   "cell_type": "markdown",
   "metadata": {}
  },
  {
   "cell_type": "code",
   "execution_count": 52,
   "metadata": {},
   "outputs": [
    {
     "output_type": "stream",
     "name": "stdout",
     "text": [
      "[9, 9, 9, 9, 8, 7, 4, 3, 2, 0]\n45\n"
     ]
    }
   ],
   "source": [
    "\n",
    "\n",
    "import random\n",
    "\n",
    "N = 10\n",
    "M = 5\n",
    "k = 2\n",
    "List = [ random.randint(0, N) for i in range(10)]\n",
    "\n",
    "List.sort(reverse=True)\n",
    "max_val = List[0]\n",
    "second_max_val = List[1]\n",
    "\n",
    "max_sum = (int(M/(k+1))) * max_val * k + int(M/(k+1)) * second_max_val + (M - int(M/(k+1))*(k+1)) * max_val\n",
    "\n",
    "print(List)\n",
    "print(max_sum)\n",
    "\n"
   ]
  },
  {
   "cell_type": "code",
   "execution_count": 36,
   "metadata": {},
   "outputs": [
    {
     "output_type": "stream",
     "name": "stdout",
     "text": [
      "[3, 1, 5, 8, 4, 6, 5, 8, 7, 5]\n1 3\n0.007978200912475586\n"
     ]
    }
   ],
   "source": [
    "import time\n",
    "import random\n",
    "\n",
    "start = time.time()\n",
    "a =[ random.randint(1, 10) for i in range(10)]\n",
    "print(a)\n",
    "a.sort(reverse=True)\n",
    "print(a[-1], a[-2])\n",
    "end = time.time()\n",
    "print(end-start)"
   ]
  },
  {
   "source": [
    "2. N X M 행렬이 주어졌을때, 가장 높은 숫자를 찾아야한다.\n",
    "규칙은 행을 선택하고 선택한 행에서 가장 낮은 숫자를 선택한다.\n",
    "\n",
    "결국 모든 행에서 가장 작은 숫자들을 비교한 뒤 그 중 가장 큰 숫자를 고르면 된다."
   ],
   "cell_type": "markdown",
   "metadata": {}
  },
  {
   "cell_type": "code",
   "execution_count": 11,
   "metadata": {},
   "outputs": [
    {
     "output_type": "stream",
     "name": "stdout",
     "text": [
      "1\n"
     ]
    }
   ],
   "source": [
    "minlist = []\n",
    "n, m = map(int, input().split())\n",
    "for _ in range(0, n):\n",
    "    minlist.append(min(list(map(int, input().split()))))\n",
    "\n",
    "print(min(minlist))"
   ]
  },
  {
   "source": [
    "3. 임의의 자연수 N, K이 주어졌을때\n",
    "N이 1이 될때까지 다음의 두가지를 반복한다.\n",
    "첫번째, N에서 1을 뺀 것을 N으로 한다.\n",
    "두번째, N이 K로 나눠지면 K로 나눈것을 N으로 한다.\n",
    "\n",
    "N이 1이되는 최소 횟수를 구하라"
   ],
   "cell_type": "markdown",
   "metadata": {}
  },
  {
   "cell_type": "code",
   "execution_count": 22,
   "metadata": {},
   "outputs": [
    {
     "output_type": "stream",
     "name": "stdout",
     "text": [
      "3\n"
     ]
    }
   ],
   "source": [
    "n, k = map(int, input().split())\n",
    "\n",
    "num_div_k = 0\n",
    "while True:\n",
    "    if n == 1:\n",
    "        print(num_div_k)\n",
    "        break\n",
    "    elif n%k != 0:\n",
    "        num_div_k +=1\n",
    "        n = n - 1\n",
    "    elif n%k == 0:\n",
    "        num_div_k +=1\n",
    "        n = n/k\n",
    "\n"
   ]
  },
  {
   "source": [
    "상하좌우"
   ],
   "cell_type": "markdown",
   "metadata": {}
  },
  {
   "cell_type": "code",
   "execution_count": 7,
   "metadata": {},
   "outputs": [
    {
     "output_type": "stream",
     "name": "stdout",
     "text": [
      "4 \t 3\n"
     ]
    }
   ],
   "source": [
    "dim = int(input())\n",
    "act = input().split(\" \")\n",
    "now_x = 1\n",
    "now_y = 1\n",
    "\n",
    "for ac in act:\n",
    "    if ac == 'R':\n",
    "        if now_x + 1 <= dim :\n",
    "            now_x += 1\n",
    "    if ac == 'L':\n",
    "        if now_x - 1 < 0 :\n",
    "            now_x -= 1\n",
    "    if ac == 'U':\n",
    "        if now_y - 1 < 0 :\n",
    "            now_y -= 1\n",
    "    if ac == 'D':\n",
    "        if now_y + 1 <= dim :\n",
    "            now_y += 1\n",
    "print(now_x, \"\\t\", now_y)"
   ]
  },
  {
   "cell_type": "code",
   "execution_count": null,
   "metadata": {},
   "outputs": [],
   "source": []
  }
 ]
}
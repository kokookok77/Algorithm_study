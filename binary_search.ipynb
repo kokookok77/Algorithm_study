{
 "metadata": {
  "language_info": {
   "codemirror_mode": {
    "name": "ipython",
    "version": 3
   },
   "file_extension": ".py",
   "mimetype": "text/x-python",
   "name": "python",
   "nbconvert_exporter": "python",
   "pygments_lexer": "ipython3",
   "version": "3.8.5-final"
  },
  "orig_nbformat": 2,
  "kernelspec": {
   "name": "python3",
   "display_name": "Python 3",
   "language": "python"
  }
 },
 "nbformat": 4,
 "nbformat_minor": 2,
 "cells": [
  {
   "cell_type": "code",
   "execution_count": 11,
   "metadata": {},
   "outputs": [
    {
     "output_type": "stream",
     "name": "stdout",
     "text": [
      "yes yes yes "
     ]
    }
   ],
   "source": [
    "import sys\n",
    "\n",
    "# binary search를 이용한 list 원소 확인\n",
    " \n",
    "n = int(input())\n",
    "all_parts = list(map(int, input().split()))\n",
    "\n",
    "m = int(input())\n",
    "orderd = list(map(int, input().split()))\n",
    "\n",
    "def binary_search(start, end, target, array):\n",
    "    while start <= end:\n",
    "        mid = (start + end) // 2\n",
    "        if array[mid] == target:\n",
    "            return mid\n",
    "        elif array[mid] < target:\n",
    "            start = mid+1\n",
    "        elif array[mid] > target:\n",
    "            end = mid-1\n",
    "        else :\n",
    "            return None\n",
    "\n",
    "all_parts.sort()\n",
    "\n",
    "for i in orderd:\n",
    "    result = binary_search(0, n-1, i, all_parts)\n",
    "    if result != None:\n",
    "        print(\"yes\", end=\" \")\n",
    "    else :\n",
    "        print(\"no\", end=\" \")"
   ]
  },
  {
   "cell_type": "code",
   "execution_count": null,
   "metadata": {},
   "outputs": [],
   "source": [
    "n = int(input())\n",
    "parts_list = list(map(int, input().split()))\n",
    "parts_array = [0]*n\n",
    "\n",
    "m = int(input())\n",
    "order = list(map(int, input().split()))\n",
    "\n",
    "for i in parts_list:\n",
    "    parts_array[i] = 1\n",
    "\n",
    "for i in order:\n",
    "    if parts_list[i] == 1:\n",
    "        print(\"yes\", end=\" \")\n",
    "    else :\n",
    "        print(\"no\", end=\" \")"
   ]
  }
 ]
}
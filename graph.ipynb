{
 "metadata": {
  "language_info": {
   "codemirror_mode": {
    "name": "ipython",
    "version": 3
   },
   "file_extension": ".py",
   "mimetype": "text/x-python",
   "name": "python",
   "nbconvert_exporter": "python",
   "pygments_lexer": "ipython3",
   "version": "3.8.5-final"
  },
  "orig_nbformat": 2,
  "kernelspec": {
   "name": "python3",
   "display_name": "Python 3",
   "language": "python"
  }
 },
 "nbformat": 4,
 "nbformat_minor": 2,
 "cells": [
  {
   "source": [
    "그래프 알고리즘\n",
    "1. 서로소집합"
   ],
   "cell_type": "markdown",
   "metadata": {}
  },
  {
   "cell_type": "code",
   "execution_count": null,
   "metadata": {},
   "outputs": [],
   "source": [
    "def find_parent(parent, x):\n",
    "    if parent[x] != x:\n",
    "        # 특정 노드 x의 부모 노드를 바로 정해주게 되므로 다른 노드에서 접근시 속도가 빨라짐\n",
    "        parent[x] = find_parent(parent, parent[x])\n",
    "    return x\n",
    "\n",
    "def union_parent(parent, x, y):\n",
    "    x = find_parent(parent, x)\n",
    "    y = find_parent(parent, y)\n",
    "\n",
    "    if x<y:\n",
    "        parent[y] = x\n",
    "    else :\n",
    "        parent[x] = y\n",
    "\n",
    "v, e = map(int, input().split())\n",
    "parent = [0]*(v+1)\n",
    "\n",
    "# 초기화\n",
    "for i in range(v+1):\n",
    "    parent[i] = i\n",
    "\n",
    "# cycle 발생 여부\n",
    "cycle = False\n",
    "\n",
    "for i in range(e):\n",
    "    a, b = map(int, input().split())\n",
    "\n",
    "    if find_parent(parent, a) == find_parent(parent, b):\n",
    "        cycle = True\n",
    "        break\n",
    "    else :\n",
    "        union_parent(a,b)\n",
    "\n",
    "print(parent)"
   ]
  },
  {
   "source": [
    "spanning tree - 크루스칼 알고리즘"
   ],
   "cell_type": "markdown",
   "metadata": {}
  },
  {
   "cell_type": "code",
   "execution_count": null,
   "metadata": {},
   "outputs": [],
   "source": [
    "def find_parent(parent, x):\n",
    "    if parent[x] != x:\n",
    "        parent[x] = find_parent(parent, parent[x])\n",
    "    return parent[x]\n",
    "\n",
    "def union_parent(parent, a,b):\n",
    "    a = find_parent(parent, a)\n",
    "    b = find_parent(parent, b)\n",
    "\n",
    "    if a<b:\n",
    "        parent[b] = a\n",
    "    else:\n",
    "        parent[a] = b\n",
    "\n",
    "v, e = map(int, input().split())\n",
    "\n",
    "parent = [i for i in range(v+1)]\n",
    "\n",
    "edges = []\n",
    "result = 0\n",
    "\n",
    "for i in range(e):\n",
    "    a,b,c = map(int, input().split())\n",
    "    edges.append((c, a, b))\n",
    "edges.sort()\n",
    "\n",
    "for edge in edges:\n",
    "    cost, a, b = edge\n",
    "    cycle = False\n",
    "    if find_parent(parent, a) == find_parent(parent, b):\n",
    "        cycle = True\n",
    "    else :\n",
    "        union_parent(parent, a, b)\n",
    "        result =+ cost\n",
    "\n",
    "    print(result)"
   ]
  },
  {
   "cell_type": "code",
   "execution_count": null,
   "metadata": {},
   "outputs": [],
   "source": [
    "위상정렬 알고리즘 \n",
    "ex. 커리큘럼 등의 순서를 정렬하는 알고리즘, 답은 여러개가 나올 수 있음"
   ]
  },
  {
   "cell_type": "code",
   "execution_count": null,
   "metadata": {},
   "outputs": [],
   "source": [
    "from collections import deque\n",
    "\n",
    "# 노드와 엣지\n",
    "v, e = map(int, input().split())\n",
    "\n",
    "# 진입차수는 0으로 초기화\n",
    "indegree = [0]*(v+1)\n",
    "\n",
    "# 그래프 초기화\n",
    "graph = [[] for i in range(v+1)]\n",
    "\n",
    "for _ in range(e):\n",
    "    a, b = map(int, input().split())\n",
    "    # 엣지가 a,b로 주어지면 a에서 b로 향하는 엣지가 존재한다는 의미\n",
    "    graph[a] = b\n",
    "    indegree[b] +=1\n",
    "\n",
    "def topology_sort():\n",
    "    result = []\n",
    "\n",
    "    q = deque()\n",
    "\n",
    "    for i in range(1, v+1):\n",
    "        if indegree[i] == 0:\n",
    "            # 진입 차수가 기본 0인 노드들을 큐에 넣음\n",
    "            q.append(i)\n",
    "\n",
    "    while q:\n",
    "        # 큐에서 진입차수가 0인 노드 하나를 뽑음\n",
    "        now = q.popleft()\n",
    "        result.append(now)\n",
    "\n",
    "        for i in graph[now]:\n",
    "            # now 노드에 연결된 엣지를 하나 제거\n",
    "            indegree[i] -= 1\n",
    "\n",
    "            if indegree[i] == 0:\n",
    "                q.append(i)\n",
    "\n",
    "print(result)"
   ]
  },
  {
   "source": [
    "예시1."
   ],
   "cell_type": "markdown",
   "metadata": {}
  },
  {
   "cell_type": "code",
   "execution_count": 6,
   "metadata": {},
   "outputs": [
    {
     "output_type": "stream",
     "name": "stdout",
     "text": [
      "[0, 1, 2, 3, 4, 5, 6, 7]\n",
      "NO\n",
      "[0, 1, 2, 1, 4, 5, 6, 7]\n",
      "NO\n",
      "[0, 1, 2, 1, 4, 5, 6, 6]\n",
      "[0, 1, 2, 1, 4, 5, 1, 6]\n",
      "[0, 1, 2, 1, 2, 5, 1, 6]\n",
      "YES\n"
     ]
    }
   ],
   "source": [
    "n, m = map(int, input().split())\n",
    "\n",
    "parent = [i for i in range(n+1)]\n",
    "\n",
    "def find_parent(parent, a):\n",
    "    if parent[a] != a:\n",
    "        parent[a] = find_parent(parent, parent[a])\n",
    "    \n",
    "    return parent[a]\n",
    "\n",
    "def union_parent(parent, a, b):\n",
    "    print(parent)\n",
    "    a = find_parent(parent, a)\n",
    "    b = find_parent(parent, b)\n",
    "\n",
    "    if a < b:\n",
    "        parent[b] = a\n",
    "    else :\n",
    "        parent[a] = b\n",
    "\n",
    "for i in range(m):\n",
    "    mode, a, b = map(int, input().split())\n",
    "\n",
    "    if mode == 0:\n",
    "        union_parent(parent, a, b)\n",
    "    if mode == 1:\n",
    "        a = find_parent(parent, a)\n",
    "        b = find_parent(parent, b)\n",
    "\n",
    "        if a == b:\n",
    "            print(\"YES\")\n",
    "        else :\n",
    "            print(\"NO\") \n",
    "    "
   ]
  }
 ]
}
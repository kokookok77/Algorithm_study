{
 "metadata": {
  "language_info": {
   "codemirror_mode": {
    "name": "ipython",
    "version": 3
   },
   "file_extension": ".py",
   "mimetype": "text/x-python",
   "name": "python",
   "nbconvert_exporter": "python",
   "pygments_lexer": "ipython3",
   "version": 3
  },
  "orig_nbformat": 2
 },
 "nbformat": 4,
 "nbformat_minor": 2,
 "cells": [
  {
   "source": [
    "그래프 알고리즘\n",
    "1. 서로소집합"
   ],
   "cell_type": "markdown",
   "metadata": {}
  },
  {
   "cell_type": "code",
   "execution_count": null,
   "metadata": {},
   "outputs": [],
   "source": [
    "def find_parent(parent, x):\n",
    "    if parent[x] != x:\n",
    "        # 특정 노드 x의 부모 노드를 바로 정해주게 되므로 다른 노드에서 접근시 속도가 빨라짐\n",
    "        parent[x] = find_parent(parent, parent[x])\n",
    "    else:\n",
    "        return x\n",
    "\n",
    "def union_parent(parent, x, y):\n",
    "    x = find_parent(parent, x)\n",
    "    y = find_parent(parent, y)\n",
    "\n",
    "    if x<y:\n",
    "        parent[y] = x\n",
    "    else :\n",
    "        parent[x] = y\n",
    "\n",
    "v, e = map(int, input().split())\n",
    "parent = [0]*(v+1)\n",
    "\n",
    "for i in range(v+1):\n",
    "    parent[i] = i\n",
    "\n",
    "for i in range(e):\n",
    "    a, b = map(int, input().split())\n",
    "\n",
    "    union_parent(a,b)\n",
    "\n",
    "print(parent)"
   ]
  }
 ]
}
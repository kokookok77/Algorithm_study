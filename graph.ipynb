{
 "metadata": {
  "language_info": {
   "codemirror_mode": {
    "name": "ipython",
    "version": 3
   },
   "file_extension": ".py",
   "mimetype": "text/x-python",
   "name": "python",
   "nbconvert_exporter": "python",
   "pygments_lexer": "ipython3",
   "version": 3
  },
  "orig_nbformat": 2
 },
 "nbformat": 4,
 "nbformat_minor": 2,
 "cells": [
  {
   "source": [
    "그래프 알고리즘\n",
    "1. 서로소집합"
   ],
   "cell_type": "markdown",
   "metadata": {}
  },
  {
   "cell_type": "code",
   "execution_count": null,
   "metadata": {},
   "outputs": [],
   "source": [
    "def find_parent(parent, x):\n",
    "    if parent[x] != x:\n",
    "        # 특정 노드 x의 부모 노드를 바로 정해주게 되므로 다른 노드에서 접근시 속도가 빨라짐\n",
    "        parent[x] = find_parent(parent, parent[x])\n",
    "    else:\n",
    "        return x\n",
    "\n",
    "def union_parent(parent, x, y):\n",
    "    x = find_parent(parent, x)\n",
    "    y = find_parent(parent, y)\n",
    "\n",
    "    if x<y:\n",
    "        parent[y] = x\n",
    "    else :\n",
    "        parent[x] = y\n",
    "\n",
    "v, e = map(int, input().split())\n",
    "parent = [0]*(v+1)\n",
    "\n",
    "# 초기화\n",
    "for i in range(v+1):\n",
    "    parent[i] = i\n",
    "\n",
    "# cycle 발생 여부\n",
    "cycle = False\n",
    "\n",
    "for i in range(e):\n",
    "    a, b = map(int, input().split())\n",
    "\n",
    "    if find_parent(parent, a) == find_parent(parent, b):\n",
    "        cycle = True\n",
    "        break\n",
    "    else :\n",
    "        union_parent(a,b)\n",
    "\n",
    "print(parent)"
   ]
  },
  {
   "source": [
    "spanning tree - 크루스칼 알고리즘"
   ],
   "cell_type": "markdown",
   "metadata": {}
  },
  {
   "cell_type": "code",
   "execution_count": null,
   "metadata": {},
   "outputs": [],
   "source": [
    "def find_parent(parent, x):\n",
    "    if parent[x] != x:\n",
    "        parent[x] = find_parent(parent, parent[x])\n",
    "    else:\n",
    "        return x\n",
    "\n",
    "def union_parent(parent, a,b):\n",
    "    a = find_parent(parent, a)\n",
    "    b = find_parent(parent, b)\n",
    "\n",
    "    if a<b:\n",
    "        parent[b] = a\n",
    "    else:\n",
    "        parent[a] = b\n",
    "\n",
    "v, e = map(int, input().split())\n",
    "\n",
    "parent = [i for i in range(v+1)]\n",
    "\n",
    "edges = []\n",
    "result = 0\n",
    "\n",
    "for i in range(e):\n",
    "    a,b,c = map(int, input().split())\n",
    "    edges.append((c, a, b))\n",
    "edges.sort()\n",
    "\n",
    "for edge in edges:\n",
    "    cost, a, b = edge\n",
    "    cycle = False\n",
    "    if find_parent(parent, a) == find_parent(parent, b):\n",
    "        cycle = True\n",
    "    else :\n",
    "        union_parent(parent, a, b)\n",
    "        result =+ cost\n",
    "\n",
    "    print(result)"
   ]
  }
 ]
}
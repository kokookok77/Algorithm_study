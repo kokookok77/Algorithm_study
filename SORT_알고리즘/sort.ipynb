{
 "metadata": {
  "language_info": {
   "codemirror_mode": {
    "name": "ipython",
    "version": 3
   },
   "file_extension": ".py",
   "mimetype": "text/x-python",
   "name": "python",
   "nbconvert_exporter": "python",
   "pygments_lexer": "ipython3",
   "version": "3.8.5-final"
  },
  "orig_nbformat": 2,
  "kernelspec": {
   "name": "python3",
   "display_name": "Python 3",
   "language": "python"
  }
 },
 "nbformat": 4,
 "nbformat_minor": 2,
 "cells": [
  {
   "cell_type": "code",
   "execution_count": 1,
   "metadata": {},
   "outputs": [
    {
     "output_type": "stream",
     "name": "stdout",
     "text": [
      "21\n30\n50\n"
     ]
    }
   ],
   "source": [
    "# 기본 정렬 알고리즘\n",
    "\n",
    "n = int(input())\n",
    "array = []\n",
    "for i in range(n):\n",
    "    array.append(int(input()))\n",
    "\n",
    "array.sort(reverse=True)\n",
    "\n",
    "for i in array:\n",
    "    print(i)"
   ]
  },
  {
   "cell_type": "code",
   "execution_count": 5,
   "metadata": {},
   "outputs": [
    {
     "output_type": "stream",
     "name": "stdout",
     "text": [
      "atti\nbilly\n"
     ]
    }
   ],
   "source": [
    "n = int(input())\n",
    "\n",
    "array = []\n",
    "for i in range(n):\n",
    "    name, score = input().split()\n",
    "    array.append((name, int(score)))\n",
    "\n",
    "array.sort(key= lambda x: x[1])\n",
    "for i in array:\n",
    "    print(i[0])"
   ]
  },
  {
   "cell_type": "code",
   "execution_count": 2,
   "metadata": {},
   "outputs": [
    {
     "output_type": "stream",
     "name": "stdout",
     "text": [
      "[1, 2, 3, 4, 5]\n26\n"
     ]
    }
   ],
   "source": [
    "n, k = map(int, input().split())\n",
    "a = list(map(int, input().split()))\n",
    "b = list(map(int, input().split()))\n",
    "\n",
    "print(a)\n",
    "for j in range(k):\n",
    "    min_idx = 0\n",
    "    max_idx = 0\n",
    "    for i in range(n-1):\n",
    "        if a[min_idx] > a[i+1]:\n",
    "            min_idx = i+1\n",
    "        if b[max_idx] < b[i+1]:\n",
    "            max_idx = i+1\n",
    "    \n",
    "    a[min_idx], b[max_idx] = b[max_idx], a[min_idx]\n",
    "sum=0\n",
    "for i in a:\n",
    "    sum+=i\n",
    "print(sum)\n"
   ]
  }
 ]
}
{
 "metadata": {
  "language_info": {
   "codemirror_mode": {
    "name": "ipython",
    "version": 3
   },
   "file_extension": ".py",
   "mimetype": "text/x-python",
   "name": "python",
   "nbconvert_exporter": "python",
   "pygments_lexer": "ipython3",
   "version": 3
  },
  "orig_nbformat": 2
 },
 "nbformat": 4,
 "nbformat_minor": 2,
 "cells": [
  {
   "source": [
    "플로이드 워셜 알고리즘은 그래프 상의 모든 노드들 사이의 최단 거리를 구하는 알고리즘 \n",
    "일반적으로 노드의 개수가 N일때 O(N^3)의 복잡도를 가진다."
   ],
   "cell_type": "markdown",
   "metadata": {}
  },
  {
   "cell_type": "code",
   "execution_count": null,
   "metadata": {},
   "outputs": [],
   "source": [
    "INF = int(1e9)\n",
    "\n",
    "# n 은 노드, m은 간선의 개수\n",
    "n, m = map(int,input().split())\n",
    "\n",
    "# 노드 사이 최소거리를 나타낼 2차원 테이블 \n",
    "graph = [[INF]*(n+1) for _ in range(n+1)]\n",
    "\n",
    "# 자신의 가는 노드의 수를 0으로 초기화\n",
    "for i in range(n+1):\n",
    "    graph[i][i] = 0\n",
    "for _ in range(m):\n",
    "    a,b,c = map(int, input().split())\n",
    "\n",
    "    graph[a][b] = c\n",
    "\n",
    "for i in range(n+1):\n",
    "    for j in range(n+1):\n",
    "        for k in range(n+1):\n",
    "            graph[j][k] = min(graph[j][k], graph[j][i]+graph[i][k])\n",
    "\n",
    "            "
   ]
  }
 ]
}